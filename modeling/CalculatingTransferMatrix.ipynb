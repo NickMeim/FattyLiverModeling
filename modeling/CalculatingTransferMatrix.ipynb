{
 "cells": [
  {
   "cell_type": "code",
   "execution_count": 1,
   "id": "c3c2374f",
   "metadata": {},
   "outputs": [],
   "source": [
    "import torch\n",
    "import numpy as np\n",
    "import pandas as pd\n",
    "from matplotlib import pyplot as plt\n",
    "import seaborn as sns\n",
    "sns.set()"
   ]
  },
  {
   "cell_type": "code",
   "execution_count": 2,
   "id": "222a4744",
   "metadata": {},
   "outputs": [],
   "source": [
    "device = torch.device('cuda')"
   ]
  },
  {
   "cell_type": "code",
   "execution_count": 3,
   "id": "eff8232e",
   "metadata": {},
   "outputs": [],
   "source": [
    "def pearson_r(y_true, y_pred):\n",
    "    x = y_true\n",
    "    y = y_pred\n",
    "    mx = torch.mean(x, dim=0)\n",
    "    my = torch.mean(y, dim=0)\n",
    "    xm, ym = x - mx, y - my\n",
    "    r_num = torch.sum(xm * ym,dim=0)\n",
    "    x_square_sum = torch.sum(xm * xm,dim=0)\n",
    "    y_square_sum = torch.sum(ym * ym,dim=0)\n",
    "    r_den = torch.sqrt(x_square_sum * y_square_sum)\n",
    "    r = r_num / r_den\n",
    "    return r#torch.mean(r)"
   ]
  },
  {
   "cell_type": "markdown",
   "id": "7d18c4eb",
   "metadata": {},
   "source": [
    "## Load data "
   ]
  },
  {
   "cell_type": "code",
   "execution_count": 162,
   "id": "58fa999c",
   "metadata": {},
   "outputs": [],
   "source": [
    "L1 = torch.tensor(pd.read_csv('../results/L1.tsv',sep=' ').values).to(device)\n",
    "L2 = torch.tensor(pd.read_csv('../results/L2.tsv',sep=' ').values).to(device)\n",
    "Y_tilda = torch.tensor(pd.read_csv('../results/K.tsv',sep=' ').values).to(device)\n",
    "A2 = torch.tensor(pd.read_csv('../results/A2.tsv',sep=' ').values).to(device)\n",
    "Z1 = torch.tensor(pd.read_csv('../results/Z1.tsv',sep=' ').values).to(device)"
   ]
  },
  {
   "cell_type": "markdown",
   "id": "e88dfa45",
   "metadata": {},
   "source": [
    "## Define trainable wieght and loss function"
   ]
  },
  {
   "cell_type": "code",
   "execution_count": 163,
   "id": "a90dcf67",
   "metadata": {},
   "outputs": [],
   "source": [
    "class WeightMatrix(torch.nn.Module):\n",
    "    def __init__(self, in_channel, out_channel, bias=False,dtype=torch.double):\n",
    "        super(WeightMatrix, self).__init__()\n",
    "        self.bias = False\n",
    "        self.linear = torch.nn.Linear(in_channel, out_channel, bias=bias,dtype=dtype)\n",
    "        self.init_weights()\n",
    "    def init_weights(self):\n",
    "        for m in self.modules():\n",
    "            if isinstance(m, torch.nn.Linear):\n",
    "                torch.nn.init.xavier_uniform_(m.weight.data)\n",
    "                if m.bias is not None:\n",
    "                    m.bias.data.fill_(0.0)\n",
    "    def forward(self,x):\n",
    "        y = self.linear(x)\n",
    "        return y\n",
    "    def L2Regularization(self, L2):\n",
    "\n",
    "        weightLoss = L2 * torch.sum((self.linear.weight)**2)\n",
    "        biasLoss = 0.\n",
    "        if self.bias==True:\n",
    "            biasLoss = biasLoss + L2 * torch.sum((self.linear.bias)**2)\n",
    "        L2Loss = biasLoss + weightLoss\n",
    "        return(L2Loss)"
   ]
  },
  {
   "cell_type": "code",
   "execution_count": 164,
   "id": "9242001a",
   "metadata": {},
   "outputs": [],
   "source": [
    "P = WeightMatrix(L1.shape[1],L2.shape[1])\n",
    "P = P.to(device)\n",
    "P.linear.weight.data = torch.matmul(L2.T,L1) + P.linear.weight.data"
   ]
  },
  {
   "cell_type": "code",
   "execution_count": 165,
   "id": "7dc6f1c3",
   "metadata": {},
   "outputs": [],
   "source": [
    "optimizer = torch.optim.Adam(P.parameters(), lr= 0.01, weight_decay=1e-6)\n",
    "scheduler = torch.optim.lr_scheduler.StepLR(optimizer,step_size=1000,gamma=0.8)\n",
    "I = torch.eye(P.linear.weight.shape[0]).to(device)\n",
    "LI = 10."
   ]
  },
  {
   "cell_type": "code",
   "execution_count": 166,
   "id": "bfc19d1a",
   "metadata": {},
   "outputs": [],
   "source": [
    "NUM_EPOCHS = 10000"
   ]
  },
  {
   "cell_type": "code",
   "execution_count": 167,
   "id": "c3e866d6",
   "metadata": {},
   "outputs": [
    {
     "name": "stdout",
     "output_type": "stream",
     "text": [
      "Epoch=1/10000, L1 pearson=0.0499, L2 pearson=0.0709, loss=2136.0562\n",
      "Epoch=1001/10000, L1 pearson=0.1653, L2 pearson=0.2203, loss=104.4538\n",
      "Epoch=2001/10000, L1 pearson=0.1964, L2 pearson=0.2442, loss=102.6804\n",
      "Epoch=3001/10000, L1 pearson=0.2005, L2 pearson=0.2492, loss=102.4250\n",
      "Epoch=4001/10000, L1 pearson=0.2013, L2 pearson=0.2503, loss=102.3702\n",
      "Epoch=5001/10000, L1 pearson=0.2015, L2 pearson=0.2507, loss=102.3541\n",
      "Epoch=6001/10000, L1 pearson=0.2016, L2 pearson=0.2508, loss=102.3483\n",
      "Epoch=7001/10000, L1 pearson=0.2016, L2 pearson=0.2508, loss=102.3459\n",
      "Epoch=8001/10000, L1 pearson=0.2016, L2 pearson=0.2508, loss=102.3449\n",
      "Epoch=9001/10000, L1 pearson=0.2017, L2 pearson=0.2508, loss=102.3444\n",
      "Epoch=10000/10000, L1 pearson=0.2017, L2 pearson=0.2508, loss=102.3442\n"
     ]
    }
   ],
   "source": [
    "all_loses =  np.zeros(NUM_EPOCHS)\n",
    "for e in range(NUM_EPOCHS):\n",
    "    P.train()\n",
    "    optimizer.zero_grad()\n",
    "    L2_hat = P(L1)\n",
    "    L1_hat = torch.matmul(L2,P.linear.weight)\n",
    "    #M = torch.matmul(P.linear.weight,P.linear.weight.T)\n",
    "    #Yhat_tilda = torch.matmul(torch.matmul(X,L2_hat),A2)\n",
    "    Yhat_tilda = torch.matmul(torch.matmul(Z1,P.linear.weight.T),A2)\n",
    "    loss = torch.sum(torch.square(Y_tilda - Yhat_tilda)) \n",
    "    loss = loss + torch.sum(torch.sum(torch.square(L2 - L2_hat),0)) + torch.sum(torch.sum(torch.square(L1 - L1_hat),0))\n",
    "    #regularization = LI*torch.sum(torch.abs(M - I)) # + P.L2Regularization(1e-06)\n",
    "    #loss = loss + regularization\n",
    "    loss.backward()\n",
    "    optimizer.step()\n",
    "    scheduler.step()\n",
    "    P.eval()\n",
    "    L2_eval = P(L1)\n",
    "    L1_eval = torch.matmul(L2,P.linear.weight)\n",
    "    L1_r = torch.mean(pearson_r(L1_eval,L1))\n",
    "    L2_r = torch.mean(pearson_r(L2_eval,L2))\n",
    "    outString = 'Epoch={:.0f}/{:.0f}'.format(e+1,NUM_EPOCHS)\n",
    "    outString += ', L1 pearson={:.4f}'.format(L1_r.item())\n",
    "    outString += ', L2 pearson={:.4f}'.format(L2_r.item())\n",
    "    outString += ', loss={:.4f}'.format(loss.item())\n",
    "    if (e%1000==0):\n",
    "        print(outString)\n",
    "    all_loses[e] = loss.item()\n",
    "print(outString)"
   ]
  },
  {
   "cell_type": "code",
   "execution_count": 168,
   "id": "a690880c",
   "metadata": {},
   "outputs": [
    {
     "data": {
      "text/plain": [
       "tensor([0.5294, 0.2608, 0.3393, 0.2513, 0.0914, 0.2987, 0.6396, 0.2535, 0.2223,\n",
       "        0.2356, 0.2354, 0.1529, 0.1969, 0.1883, 0.2201, 0.2919, 0.2422, 0.1374,\n",
       "        0.1148, 0.1105, 0.1405, 0.0911, 0.1423, 0.1156, 0.1029, 0.1296, 0.0839,\n",
       "        0.0911, 0.0703, 0.0704], device='cuda:0', dtype=torch.float64,\n",
       "       grad_fn=<DivBackward0>)"
      ]
     },
     "execution_count": 168,
     "metadata": {},
     "output_type": "execute_result"
    }
   ],
   "source": [
    "pearson_r(L1_eval,L1)"
   ]
  },
  {
   "cell_type": "code",
   "execution_count": 169,
   "id": "501e2de5",
   "metadata": {},
   "outputs": [
    {
     "data": {
      "text/plain": [
       "tensor([0.4579, 0.7400, 0.5999, 0.3350, 0.3504, 0.3646, 0.2245, 0.0786, 0.1657,\n",
       "        0.1647, 0.2118, 0.1645, 0.1232, 0.1717, 0.1825, 0.0684, 0.1013, 0.0092],\n",
       "       device='cuda:0', dtype=torch.float64, grad_fn=<DivBackward0>)"
      ]
     },
     "execution_count": 169,
     "metadata": {},
     "output_type": "execute_result"
    }
   ],
   "source": [
    "pearson_r(L2_eval,L2)"
   ]
  },
  {
   "cell_type": "code",
   "execution_count": 170,
   "id": "07dcedd3",
   "metadata": {},
   "outputs": [
    {
     "data": {
      "image/png": "[encoded data removed]",
      "text/plain": [
       "<Figure size 432x288 with 1 Axes>"
      ]
     },
     "metadata": {},
     "output_type": "display_data"
    }
   ],
   "source": [
    "plt.plot(np.arange(NUM_EPOCHS),all_loses)\n",
    "plt.xlabel('Iterations')\n",
    "plt.ylabel('Loss')\n",
    "plt.yscale('log')"
   ]
  },
  {
   "cell_type": "code",
   "execution_count": 171,
   "id": "de0b13e5",
   "metadata": {},
   "outputs": [],
   "source": [
    "pd.DataFrame(P.linear.weight.T.detach().cpu().numpy()).to_csv('../results/P.csv')"
   ]
  },
  {
   "cell_type": "code",
   "execution_count": 172,
   "id": "38c4497f",
   "metadata": {},
   "outputs": [
    {
     "data": {
      "text/plain": [
       "torch.Size([13181, 18])"
      ]
     },
     "execution_count": 172,
     "metadata": {},
     "output_type": "execute_result"
    }
   ],
   "source": [
    "L2.shape"
   ]
  },
  {
   "cell_type": "code",
   "execution_count": 173,
   "id": "e9c206d9",
   "metadata": {},
   "outputs": [
    {
     "data": {
      "text/plain": [
       "tensor(21.3419, device='cuda:0', dtype=torch.float64, grad_fn=<SumBackward0>)"
      ]
     },
     "execution_count": 173,
     "metadata": {},
     "output_type": "execute_result"
    }
   ],
   "source": [
    "P.eval()\n",
    "M = torch.matmul(P.linear.weight,P.linear.weight.T)\n",
    "torch.sum(torch.abs(M - I))"
   ]
  },
  {
   "cell_type": "code",
   "execution_count": 174,
   "id": "87fa6f09",
   "metadata": {},
   "outputs": [
    {
     "data": {
      "text/plain": [
       "tensor([[ 3.7102e-01,  4.1502e-02, -1.3899e-01,  5.5126e-02,  7.9631e-02,\n",
       "          5.6941e-02,  3.7155e-02,  4.1231e-03, -1.9496e-02,  6.2815e-03,\n",
       "         -6.6205e-02, -7.0084e-03,  2.6990e-02,  2.4835e-02, -2.5277e-02,\n",
       "         -9.0723e-03, -9.2862e-03,  6.9658e-02],\n",
       "        [ 4.1502e-02,  6.0413e-01, -1.3024e-02, -7.7173e-02, -9.1543e-02,\n",
       "         -1.0430e-01, -1.6697e-02, -2.5637e-02, -3.5100e-02, -1.8000e-03,\n",
       "         -2.2739e-03, -1.1233e-02,  8.5377e-03, -2.9696e-02,  2.6107e-02,\n",
       "          2.6842e-02, -4.8457e-03, -3.4939e-02],\n",
       "        [-1.3899e-01, -1.3024e-02,  3.7142e-01, -7.3019e-03, -1.2622e-01,\n",
       "          6.8878e-02,  6.2754e-03,  4.9292e-03,  1.4212e-02, -1.6448e-02,\n",
       "          7.2051e-02, -5.2400e-03, -4.5171e-03,  1.0159e-04,  6.0433e-03,\n",
       "         -8.4243e-03,  3.5547e-03, -3.7759e-02],\n",
       "        [ 5.5126e-02, -7.7173e-02, -7.3019e-03,  1.0936e-01,  8.5173e-02,\n",
       "          4.9549e-02,  1.5994e-02,  9.5968e-04,  9.5440e-03, -1.4339e-02,\n",
       "          2.6215e-02,  1.0067e-02, -4.3258e-03,  3.7739e-02, -2.1447e-02,\n",
       "          3.3580e-03, -2.2700e-03,  2.9086e-03],\n",
       "        [ 7.9631e-02, -9.1543e-02, -1.2622e-01,  8.5173e-02,  1.5507e-01,\n",
       "         -2.2170e-02,  8.8647e-03,  9.2834e-03, -1.4716e-02, -5.8277e-03,\n",
       "         -1.4518e-02,  2.7690e-02, -1.9616e-03,  2.5943e-02, -3.7695e-02,\n",
       "         -6.7518e-03, -5.6319e-03,  4.6581e-02],\n",
       "        [ 5.6941e-02, -1.0430e-01,  6.8878e-02,  4.9549e-02, -2.2170e-02,\n",
       "          1.3748e-01,  1.3696e-02,  4.8460e-05,  1.6743e-02, -6.2299e-04,\n",
       "          1.0774e-02, -5.1883e-04, -2.9510e-03,  1.4005e-02,  5.9411e-03,\n",
       "          5.7086e-04, -1.4373e-03, -1.5122e-02],\n",
       "        [ 3.7155e-02, -1.6697e-02,  6.2754e-03,  1.5994e-02,  8.8647e-03,\n",
       "          1.3696e-02,  5.0450e-02,  6.0377e-03,  5.9668e-03, -1.5311e-02,\n",
       "          2.6839e-02,  2.1031e-03,  7.4246e-03, -6.4481e-03,  3.1794e-03,\n",
       "         -5.6004e-03, -3.7776e-03, -3.2717e-04],\n",
       "        [ 4.1231e-03, -2.5637e-02,  4.9292e-03,  9.5968e-04,  9.2834e-03,\n",
       "          4.8460e-05,  6.0377e-03,  1.6430e-02,  2.0385e-03,  5.9073e-03,\n",
       "         -9.1799e-03,  5.9729e-03, -2.9694e-03, -9.0240e-03, -9.9799e-03,\n",
       "         -1.4171e-02, -9.1162e-03,  2.9624e-02],\n",
       "        [-1.9496e-02, -3.5100e-02,  1.4212e-02,  9.5440e-03, -1.4716e-02,\n",
       "          1.6743e-02,  5.9668e-03,  2.0385e-03,  3.0866e-02, -3.5058e-03,\n",
       "          2.0314e-02, -3.8899e-03, -3.5174e-03,  2.0058e-04,  7.8200e-03,\n",
       "          1.2592e-04, -6.4324e-03, -1.4161e-02],\n",
       "        [ 6.2815e-03, -1.8000e-03, -1.6448e-02, -1.4339e-02, -5.8277e-03,\n",
       "         -6.2299e-04, -1.5311e-02,  5.9073e-03, -3.5058e-03,  2.7642e-02,\n",
       "         -1.8008e-02, -6.6092e-05, -2.5650e-03, -5.1282e-03,  9.6718e-03,\n",
       "         -7.2601e-03,  1.5614e-03,  1.2900e-02],\n",
       "        [-6.6205e-02, -2.2739e-03,  7.2051e-02,  2.6215e-02, -1.4518e-02,\n",
       "          1.0774e-02,  2.6839e-02, -9.1799e-03,  2.0314e-02, -1.8008e-02,\n",
       "          1.0066e-01,  1.1312e-02, -5.1140e-03,  1.6701e-03,  2.6832e-02,\n",
       "          1.5929e-02,  6.7713e-03, -6.7825e-02],\n",
       "        [-7.0084e-03, -1.1233e-02, -5.2400e-03,  1.0067e-02,  2.7690e-02,\n",
       "         -5.1883e-04,  2.1031e-03,  5.9729e-03, -3.8899e-03, -6.6092e-05,\n",
       "          1.1312e-02,  3.1348e-02, -5.7120e-03, -9.5256e-03, -3.7859e-04,\n",
       "         -2.0823e-03, -3.6984e-03,  9.3694e-03],\n",
       "        [ 2.6990e-02,  8.5377e-03, -4.5171e-03, -4.3258e-03, -1.9616e-03,\n",
       "         -2.9510e-03,  7.4246e-03, -2.9694e-03, -3.5174e-03, -2.5650e-03,\n",
       "         -5.1140e-03, -5.7120e-03,  1.5427e-02, -4.3012e-03,  7.0057e-03,\n",
       "          3.4820e-03,  2.3475e-03,  3.1490e-03],\n",
       "        [ 2.4835e-02, -2.9696e-02,  1.0159e-04,  3.7739e-02,  2.5943e-02,\n",
       "          1.4005e-02, -6.4481e-03, -9.0240e-03,  2.0058e-04, -5.1282e-03,\n",
       "          1.6701e-03, -9.5256e-03, -4.3012e-03,  3.9708e-02, -1.8256e-02,\n",
       "          4.8517e-03,  8.4312e-03, -8.3409e-03],\n",
       "        [-2.5277e-02,  2.6107e-02,  6.0433e-03, -2.1447e-02, -3.7695e-02,\n",
       "          5.9411e-03,  3.1794e-03, -9.9799e-03,  7.8200e-03,  9.6718e-03,\n",
       "          2.6832e-02, -3.7859e-04,  7.0057e-03, -1.8256e-02,  5.7973e-02,\n",
       "          1.1709e-02,  1.1755e-02, -3.7764e-02],\n",
       "        [-9.0723e-03,  2.6842e-02, -8.4243e-03,  3.3580e-03, -6.7518e-03,\n",
       "          5.7086e-04, -5.6004e-03, -1.4171e-02,  1.2592e-04, -7.2601e-03,\n",
       "          1.5929e-02, -2.0823e-03,  3.4820e-03,  4.8517e-03,  1.1709e-02,\n",
       "          1.7448e-02,  6.9894e-03, -3.1892e-02],\n",
       "        [-9.2862e-03, -4.8457e-03,  3.5547e-03, -2.2700e-03, -5.6319e-03,\n",
       "         -1.4373e-03, -3.7776e-03, -9.1162e-03, -6.4324e-03,  1.5614e-03,\n",
       "          6.7713e-03, -3.6984e-03,  2.3475e-03,  8.4312e-03,  1.1755e-02,\n",
       "          6.9894e-03,  1.5473e-02, -1.6153e-02],\n",
       "        [ 6.9658e-02, -3.4939e-02, -3.7759e-02,  2.9086e-03,  4.6581e-02,\n",
       "         -1.5122e-02, -3.2717e-04,  2.9624e-02, -1.4161e-02,  1.2900e-02,\n",
       "         -6.7825e-02,  9.3694e-03,  3.1490e-03, -8.3409e-03, -3.7764e-02,\n",
       "         -3.1892e-02, -1.6153e-02,  1.1423e-01]], device='cuda:0',\n",
       "       dtype=torch.float64, grad_fn=<MmBackward0>)"
      ]
     },
     "execution_count": 174,
     "metadata": {},
     "output_type": "execute_result"
    }
   ],
   "source": [
    "M"
   ]
  },
  {
   "cell_type": "code",
   "execution_count": 175,
   "id": "b4482ebe",
   "metadata": {},
   "outputs": [
    {
     "data": {
      "text/plain": [
       "tensor([0.3710, 0.6041, 0.3714, 0.1094, 0.1551, 0.1375, 0.0505, 0.0164, 0.0309,\n",
       "        0.0276, 0.1007, 0.0313, 0.0154, 0.0397, 0.0580, 0.0174, 0.0155, 0.1142],\n",
       "       device='cuda:0', dtype=torch.float64, grad_fn=<DiagBackward0>)"
      ]
     },
     "execution_count": 175,
     "metadata": {},
     "output_type": "execute_result"
    }
   ],
   "source": [
    "torch.diag(M)"
   ]
  },
  {
   "cell_type": "code",
   "execution_count": null,
   "id": "bc4d53d3",
   "metadata": {},
   "outputs": [],
   "source": []
  }
 ],
 "metadata": {
  "kernelspec": {
   "display_name": "Python 3",
   "language": "python",
   "name": "python3"
  },
  "language_info": {
   "codemirror_mode": {
    "name": "ipython",
    "version": 3
   },
   "file_extension": ".py",
   "mimetype": "text/x-python",
   "name": "python",
   "nbconvert_exporter": "python",
   "pygments_lexer": "ipython3",
   "version": "3.8.8"
  }
 },
 "nbformat": 4,
 "nbformat_minor": 5
}
