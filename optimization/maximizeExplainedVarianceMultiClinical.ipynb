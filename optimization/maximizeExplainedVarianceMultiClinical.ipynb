{
 "cells": [
  {
   "cell_type": "markdown",
   "id": "aeed2b2e",
   "metadata": {},
   "source": [
    "# Load dependencies"
   ]
  },
  {
   "cell_type": "code",
   "execution_count": 43,
   "id": "ffbfdc56",
   "metadata": {},
   "outputs": [],
   "source": [
    "import torch\n",
    "import torch.nn as nn\n",
    "import torch.nn.functional as F\n",
    "import numpy as np\n",
    "import pandas as pd\n",
    "from scipy.stats import pearsonr\n",
    "from sklearn.preprocessing import StandardScaler\n",
    "from sklearn.decomposition import PCA\n",
    "from sklearn.cluster import KMeans\n",
    "from sklearn.model_selection import train_test_split\n",
    "from sklearn.manifold import TSNE\n",
    "from sklearn.model_selection import train_test_split\n",
    "from sklearn.model_selection import KFold\n",
    "from matplotlib import pyplot as plt\n",
    "import seaborn as sns\n",
    "sns.set()"
   ]
  },
  {
   "cell_type": "code",
   "execution_count": 44,
   "id": "4258ff68",
   "metadata": {},
   "outputs": [],
   "source": [
    "device = torch.device('cuda')"
   ]
  },
  {
   "cell_type": "code",
   "execution_count": 45,
   "id": "57ffcb00",
   "metadata": {},
   "outputs": [],
   "source": [
    "#### from https://github.com/gngdb/pytorch-pca/tree/main ####\n",
    "def svd_flip(u, v):\n",
    "    # columns of u, rows of v\n",
    "    max_abs_cols = torch.argmax(torch.abs(u), 0)\n",
    "    i = torch.arange(u.shape[1]).to(u.device)\n",
    "    signs = torch.sign(u[max_abs_cols, i])\n",
    "    u *= signs\n",
    "    v *= signs.view(-1, 1)\n",
    "    return u, v\n",
    "\n",
    "class TorchPCA(nn.Module):\n",
    "    def __init__(self, n_components):\n",
    "        super().__init__()\n",
    "        self.n_components = n_components\n",
    "\n",
    "    #@torch.no_grad()\n",
    "    def fit(self, X):\n",
    "        n, d = X.size()\n",
    "        if self.n_components is not None:\n",
    "            d = min(self.n_components, d)\n",
    "        self.register_buffer(\"mean_\", X.mean(0, keepdim=True))\n",
    "        Z = X - self.mean_ # center\n",
    "        U, S, Vh = torch.linalg.svd(Z, full_matrices=False)\n",
    "        Vt = Vh\n",
    "        U, Vt = svd_flip(U, Vt)\n",
    "        self.register_buffer(\"components_\", Vt[:d])\n",
    "        return self\n",
    "\n",
    "    def forward(self, X):\n",
    "        return self.transform(X)\n",
    "\n",
    "    def transform(self, X):\n",
    "        assert hasattr(self, \"components_\"), \"PCA must be fit before use.\"\n",
    "        return torch.matmul(X - self.mean_, self.components_.t())\n",
    "\n",
    "    def fit_transform(self, X):\n",
    "        self.fit(X)\n",
    "        return self.transform(X)\n",
    "\n",
    "    def inverse_transform(self, Y):\n",
    "        assert hasattr(self, \"components_\"), \"PCA must be fit before use.\"\n",
    "        return torch.matmul(Y, self.components_) + self.mean_"
   ]
  },
  {
   "cell_type": "code",
   "execution_count": 46,
   "id": "f8440447",
   "metadata": {},
   "outputs": [],
   "source": [
    "def rank_tensor(x):\n",
    "    \"\"\"\n",
    "    Returns the ranks of the elements in the input tensor x.\n",
    "    \"\"\"\n",
    "    tmp = x.argsort()\n",
    "    ranks = torch.zeros_like(tmp)\n",
    "    ranks[tmp] = torch.arange(len(x), device=x.device)\n",
    "    return ranks\n",
    "\n",
    "def spearman_corr(x, y):\n",
    "    \"\"\"\n",
    "    Calculates the differentiable Spearman correlation between two tensors x and y.\n",
    "    \"\"\"\n",
    "    assert x.shape == y.shape, \"Input tensors must have the same shape\"\n",
    "    \n",
    "    n = x.size(0)\n",
    "\n",
    "    # Rank the tensors\n",
    "    x_rank = rank_tensor(x).float()\n",
    "    y_rank = rank_tensor(y).float()\n",
    "    \n",
    "    # Compute the covariance between the ranks\n",
    "    x_rank_mean = x_rank.mean()\n",
    "    y_rank_mean = y_rank.mean()\n",
    "    \n",
    "    cov_xy = ((x_rank - x_rank_mean) * (y_rank - y_rank_mean)).mean()\n",
    "    \n",
    "    # Compute the standard deviations of the ranks\n",
    "    std_x_rank = x_rank.std()\n",
    "    std_y_rank = y_rank.std()\n",
    "    \n",
    "    # Compute the Spearman correlation\n",
    "    spearman_corr = cov_xy / (std_x_rank * std_y_rank)\n",
    "    \n",
    "    return spearman_corr\n"
   ]
  },
  {
   "cell_type": "markdown",
   "id": "02b77fda",
   "metadata": {},
   "source": [
    "# Load data"
   ]
  },
  {
   "cell_type": "code",
   "execution_count": 47,
   "id": "68a41fb2",
   "metadata": {},
   "outputs": [],
   "source": [
    "X_A = pd.read_csv('X_Govaere.csv',index_col=0)\n",
    "X_hoang = pd.read_csv('X_Hoang.csv',index_col=0)\n",
    "X_pantono = pd.read_csv('X_Pantano.csv',index_col=0)\n",
    "X_B = pd.read_csv('X_Kostrzewski_grouped.csv',index_col=0)\n",
    "Y_A = pd.read_csv('Y_Govaere.csv',index_col=0)\n",
    "Wh = pd.read_csv('../results/Wh_govaere.csv',index_col=0)\n",
    "W_extra = pd.read_csv('../results/Wm_kostrzewski_extra.csv',index_col=0)\n",
    "lean_control_ind = 'high_lean_FALSE_FALSE_FALSE_FALSE' # in the pair that explains most of the variance it is the control\n",
    "fatty_control_ind = 'high_fat_FALSE_FALSE_FALSE_FALSE'"
   ]
  },
  {
   "cell_type": "code",
   "execution_count": 48,
   "id": "307f1aa1",
   "metadata": {},
   "outputs": [
    {
     "name": "stdout",
     "output_type": "stream",
     "text": [
      "9393.809268339332\n"
     ]
    }
   ],
   "source": [
    "# get total variance of X_A\n",
    "varA = np.var(X_A,axis=0).sum() + np.var(X_hoang,axis=0).sum() + np.var(X_pantono,axis=0).sum()\n",
    "print(varA)"
   ]
  },
  {
   "cell_type": "markdown",
   "id": "f7bca390",
   "metadata": {},
   "source": [
    "# Get PCA loadings"
   ]
  },
  {
   "cell_type": "code",
   "execution_count": 49,
   "id": "32e95e82",
   "metadata": {},
   "outputs": [],
   "source": [
    "# initialize a PCA object with the largest value of n_components you can\n",
    "pca = PCA()\n",
    "# fit your PCA object to your data\n",
    "pca.fit(X_B)\n",
    "# transform your data into PCA space\n",
    "Z_B = pca.transform(X_B)"
   ]
  },
  {
   "cell_type": "code",
   "execution_count": 50,
   "id": "9f7b0d0d",
   "metadata": {},
   "outputs": [
    {
     "data": {
      "text/plain": [
       "Text(0.5, 1.0, 'in-vitro model PC space')"
      ]
     },
     "execution_count": 50,
     "metadata": {},
     "output_type": "execute_result"
    },
    {
     "data": {
      "image/png": "[encoded data removed]",
      "text/plain": [
       "<Figure size 432x288 with 1 Axes>"
      ]
     },
     "metadata": {},
     "output_type": "display_data"
    }
   ],
   "source": [
    "pca_data = pd.DataFrame(data={'PC1':Z_B[:,0], 'PC2':Z_B[:,1]})\n",
    "# pca_data = pd.concat([pca_data,pd.DataFrame(data={'PC1':Z_A_B[:,0], 'PC2':Z_A_B[:,1]})])\n",
    "# pca_data['dataset'] = ['in-vitro model' for i in range(Z_B.shape[0])] + ['humans' for i in range(Z_A_B.shape[0])]\n",
    "# plot our PCA transformed data using sns.scatterplot() (set hue = target)\n",
    "sns.scatterplot(data = pca_data , x = 'PC1',y = 'PC2', s =60 , palette= 'icefire')\n",
    "plt.title('in-vitro model PC space')"
   ]
  },
  {
   "cell_type": "code",
   "execution_count": 51,
   "id": "ab6bc727",
   "metadata": {},
   "outputs": [
    {
     "name": "stdout",
     "output_type": "stream",
     "text": [
      "(48, 26001)\n"
     ]
    }
   ],
   "source": [
    "loadings = pca.components_\n",
    "print(loadings.shape)"
   ]
  },
  {
   "cell_type": "code",
   "execution_count": 52,
   "id": "4d79f6c9",
   "metadata": {},
   "outputs": [
    {
     "name": "stdout",
     "output_type": "stream",
     "text": [
      "The explained variance of the human data in the PC-space of liver chip is 24.93 %\n"
     ]
    }
   ],
   "source": [
    "Z_A_B = np.dot(X_A,loadings.T)\n",
    "Z_hoang_B = np.dot(X_hoang,loadings.T)\n",
    "Z_pantono_B = np.dot(X_pantono,loadings.T)\n",
    "varAB = np.var(Z_A_B,axis=0).sum() + np.var(Z_hoang_B,axis=0).sum() + np.var(Z_pantono_B,axis=0).sum()\n",
    "print('The explained variance of the human data in the PC-space of liver chip is {:.2f} %'.format(100*varAB/varA))"
   ]
  },
  {
   "cell_type": "code",
   "execution_count": 53,
   "id": "bb3932c4",
   "metadata": {},
   "outputs": [],
   "source": [
    "# varA_filt = np.var(np.dot(np.dot(X_A,Wh),Wh.T),axis=0).sum()\n",
    "# Z_A_B_filt = np.dot(np.dot(np.dot(X_A,Wh),Wh.T),loadings.T)\n",
    "# varAB_filt = np.var(Z_A_B_filt,axis=0).sum()\n",
    "# print('The explained variance of the human data in the PC-space of liver chip is {:.2f} %'.format(100*varAB_filt/varA_filt))"
   ]
  },
  {
   "cell_type": "code",
   "execution_count": 54,
   "id": "069ac575",
   "metadata": {},
   "outputs": [],
   "source": [
    "# varA_filt = np.var(X_A-np.dot(np.dot(X_A,Wh),Wh.T),axis=0).sum()\n",
    "# Z_A_B_filt = np.dot(X_A-np.dot(np.dot(X_A,Wh),Wh.T),loadings.T)\n",
    "# varAB_filt = np.var(Z_A_B_filt,axis=0).sum()\n",
    "# print('The explained variance of the human data in the PC-space of liver chip is {:.2f} %'.format(100*varAB_filt/varA_filt))"
   ]
  },
  {
   "cell_type": "markdown",
   "id": "2dbf7124",
   "metadata": {},
   "source": [
    "# Initialize perturbation as a small random dX"
   ]
  },
  {
   "cell_type": "code",
   "execution_count": 62,
   "id": "2ad76ca0",
   "metadata": {},
   "outputs": [],
   "source": [
    "XB_lean = X_B.loc[lean_control_ind,:].values.reshape(1,X_B.shape[1])\n",
    "XB_fatty = X_B.loc[fatty_control_ind,:].values.reshape(1,X_B.shape[1])\n",
    "dX_lean = np.random.normal(X_B.mean(0).values,X_B.std(0).values,size=(1,XB_lean.shape[1]))\n",
    "dX_lean = torch.tensor(dX_lean).float().to(device)\n",
    "# dX_fatty = np.random.normal(X_B.mean(0).values,X_B.std(0).values,size=(1,XB_fatty.shape[1]))\n",
    "# dX_fatty = torch.tensor(dX_fatty).float().to(device)\n",
    "# Input_fatty = torch.nn.Parameter(dX_fatty, requires_grad = True)\n",
    "# Input_fatty.retain_grad()\n",
    "Input_lean = torch.nn.Parameter(dX_lean, requires_grad = True)\n",
    "Input_lean.retain_grad()\n",
    "# optimizer = torch.optim.Adam([Input_lean,Input_fatty],lr= 0.1,weight_decay=0)\n",
    "optimizer = torch.optim.Adam([Input_lean],lr= 0.1,weight_decay=0)\n",
    "# scheduler = torch.optim.lr_scheduler.StepLR(optimizer,\n",
    "#                                             step_size=150,\n",
    "#                                             gamma=0.8)\n",
    "XB_lean = torch.tensor(XB_lean).float().to(device)\n",
    "XB_lean = torch.mean(XB_lean,0,keepdim = True)\n",
    "# XB_fatty = torch.tensor(XB_fatty).float().to(device)\n",
    "# XB_fatty = torch.mean(XB_fatty,0,keepdim = True)\n",
    "XB = torch.tensor(X_B.values).float().to(device)\n",
    "XA = torch.tensor(X_A.values).float().to(device)\n",
    "Xhoang = torch.tensor(X_hoang.values).float().to(device)\n",
    "Xpantono = torch.tensor(X_pantono.values).float().to(device)\n",
    "W_A = torch.tensor(Wh.values).float().to(device)\n",
    "W_B_extra = torch.tensor(W_extra.values).float().to(device)"
   ]
  },
  {
   "cell_type": "code",
   "execution_count": 63,
   "id": "5a66fa73",
   "metadata": {},
   "outputs": [
    {
     "name": "stdout",
     "output_type": "stream",
     "text": [
      "torch.Size([1, 26001])\n"
     ]
    }
   ],
   "source": [
    "# print(XB_fatty.shape)\n",
    "print(XB_lean.shape)"
   ]
  },
  {
   "cell_type": "code",
   "execution_count": 64,
   "id": "1cdc50aa",
   "metadata": {
    "scrolled": true
   },
   "outputs": [
    {
     "name": "stdout",
     "output_type": "stream",
     "text": [
      "Sample 0 Iteration=0, loss=-0.3193, explained_variance=32.45%\n",
      "Sample 0 Iteration=200, loss=-0.4304, explained_variance=43.16%\n",
      "Sample 0 Iteration=400, loss=-0.4297, explained_variance=43.20%\n",
      "Sample 0 Iteration=600, loss=-0.4269, explained_variance=43.18%\n",
      "Sample 0 Iteration=800, loss=-0.4286, explained_variance=43.19%\n",
      "Sample 0 Iteration=999, loss=-0.4296, explained_variance=43.20%\n",
      "Sample 1 Iteration=0, loss=-0.1571, explained_variance=15.94%\n",
      "Sample 1 Iteration=200, loss=-0.2378, explained_variance=23.88%\n",
      "Sample 1 Iteration=400, loss=-0.2373, explained_variance=23.90%\n",
      "Sample 1 Iteration=600, loss=-0.2355, explained_variance=23.89%\n",
      "Sample 1 Iteration=800, loss=-0.2278, explained_variance=22.90%\n",
      "Sample 1 Iteration=999, loss=-0.2360, explained_variance=23.89%\n",
      "Sample 2 Iteration=0, loss=-0.2428, explained_variance=24.56%\n",
      "Sample 2 Iteration=200, loss=-0.3440, explained_variance=34.51%\n",
      "Sample 2 Iteration=400, loss=-0.3440, explained_variance=34.55%\n",
      "Sample 2 Iteration=600, loss=-0.3423, explained_variance=34.54%\n",
      "Sample 2 Iteration=800, loss=-0.3437, explained_variance=34.55%\n",
      "Sample 2 Iteration=999, loss=-0.3444, explained_variance=34.55%\n"
     ]
    },
    {
     "data": {
      "image/png": "[encoded data removed]",
      "text/plain": [
       "<Figure size 432x288 with 1 Axes>"
      ]
     },
     "metadata": {},
     "output_type": "display_data"
    }
   ],
   "source": [
    "df_lean = pd.DataFrame({})\n",
    "# #df_fatty = pd.DataFrame({})\n",
    "# loss_all = []\n",
    "# exp_var_all = []\n",
    "iters = 1000\n",
    "torch.autograd.set_detect_anomaly(True)\n",
    "clinical_datasets = [XA,Xhoang,Xpantono]\n",
    "# j= 0\n",
    "for j in range(len(clinical_datasets)):\n",
    "    Input_lean = torch.nn.Parameter(dX_lean, requires_grad = True)\n",
    "    Input_lean.retain_grad()\n",
    "    optimizer = torch.optim.Adam([Input_lean],lr= 0.1,weight_decay=0)\n",
    "    loss_all = []\n",
    "    exp_var_all = []\n",
    "    for i in range(iters):\n",
    "        optimizer.zero_grad()\n",
    "        Xstar_lean = XB_lean + Input_lean\n",
    "        #Xstar_fatty = XB_fatty + Input_fatty\n",
    "        #X = torch.concat((XB,Xstar_lean,Xstar_fatty),0)\n",
    "        X = torch.concat((XB,Xstar_lean),0)\n",
    "        U,S,V = torch.svd(X)\n",
    "        #Z_A_B = torch.matmul(XA,P.T)\n",
    "        Z_A_B = torch.matmul(clinical_datasets[j],V)\n",
    "        #Z_hoang_B = torch.matmul(Xhoang,V)\n",
    "        #Z_pantono_B = torch.matmul(Xpantono,V)\n",
    "        #varAB = torch.var(Z_A_B,axis=0).sum() +torch.var(Z_hoang_B,axis=0).sum() +torch.var(Z_pantono_B,axis=0).sum()\n",
    "        varAB = torch.var(Z_A_B,axis=0).sum()\n",
    "\n",
    "        ## spearman loss\n",
    "        #lean_spear = torch.abs(spearman_corr(Input_lean.squeeze(),W_B_extra[:,0]))\n",
    "        #lean_spear = lean_spear + torch.abs(spearman_corr(Input_lean.squeeze(),W_B_extra[:,1]))\n",
    "        #fatty_spear = spearman_corr(Input_fatty.squeeze(),W_B_extra[:,0]) + spearman_corr(Input_fatty.squeeze(),W_B_extra[:,1])\n",
    "\n",
    "        loss = - varAB/torch.var(clinical_datasets[j],axis=0).sum()\n",
    "        loss = loss + 1e-6 * torch.sum(torch.abs(Input_lean))\n",
    "\n",
    "        loss.backward()\n",
    "        optimizer.step()\n",
    "        #scheduler.step()\n",
    "\n",
    "        exp_var = 100 * varAB/torch.var(clinical_datasets[j],axis=0).sum()\n",
    "        exp_var = exp_var.item()\n",
    "        loss_all.append(loss.item())\n",
    "        exp_var_all.append(exp_var)\n",
    "        if i % 200 == 0 :\n",
    "            outString = 'Sample {:.0f} Iteration={:.0f}'.format(j,i)\n",
    "            outString += ', loss={:.4f}'.format(loss.item())\n",
    "            outString += ', explained_variance={:.2f}%'.format(exp_var)\n",
    "            print(outString)\n",
    "    outString = 'Sample {:.0f} Iteration={:.0f}'.format(j,i)\n",
    "    outString += ', loss={:.4f}'.format(loss.item())\n",
    "    outString += ', explained_variance={:.2f}%'.format(exp_var)\n",
    "    print(outString)\n",
    "    lean_dx = pd.DataFrame(Input_lean.detach().cpu().numpy())\n",
    "    lean_dx.columns = X_B.columns.values\n",
    "    df_lean = df_lean.append(lean_dx)\n",
    "    # fatty_dx = pd.DataFrame(Input_fatty.detach().cpu().numpy())\n",
    "    # fatty_dx.columns = X_B.columns.values\n",
    "    # df_fatty = df_fatty.append(fatty_dx)\n",
    "    plt.plot(range(iters),exp_var_all)"
   ]
  },
  {
   "cell_type": "code",
   "execution_count": 65,
   "id": "dd4b411e",
   "metadata": {},
   "outputs": [],
   "source": [
    "# #df_fatty.index = [i for i in range(XB_fatty.shape[0])]\n",
    "# df_lean.index = [i for i in range(XB_lean.shape[0])]"
   ]
  },
  {
   "cell_type": "code",
   "execution_count": 66,
   "id": "15453df6",
   "metadata": {},
   "outputs": [],
   "source": [
    "df_lean.index = ['Govaere','Hoang','pantono']"
   ]
  },
  {
   "cell_type": "code",
   "execution_count": 67,
   "id": "749f6619",
   "metadata": {},
   "outputs": [
    {
     "data": {
      "text/html": [
       "<div>\n",
       "<style scoped>\n",
       "    .dataframe tbody tr th:only-of-type {\n",
       "        vertical-align: middle;\n",
       "    }\n",
       "\n",
       "    .dataframe tbody tr th {\n",
       "        vertical-align: top;\n",
       "    }\n",
       "\n",
       "    .dataframe thead th {\n",
       "        text-align: right;\n",
       "    }\n",
       "</style>\n",
       "<table border=\"1\" class=\"dataframe\">\n",
       "  <thead>\n",
       "    <tr style=\"text-align: right;\">\n",
       "      <th></th>\n",
       "      <th>TSPAN6</th>\n",
       "      <th>TNMD</th>\n",
       "      <th>DPM1</th>\n",
       "      <th>SCYL3</th>\n",
       "      <th>C1orf112</th>\n",
       "      <th>FGR</th>\n",
       "      <th>CFH</th>\n",
       "      <th>FUCA2</th>\n",
       "      <th>GCLC</th>\n",
       "      <th>NFYA</th>\n",
       "      <th>...</th>\n",
       "      <th>DDX51</th>\n",
       "      <th>YBX2</th>\n",
       "      <th>NANOS3</th>\n",
       "      <th>ISLR</th>\n",
       "      <th>CHEK2P5</th>\n",
       "      <th>TMEM95</th>\n",
       "      <th>C1R</th>\n",
       "      <th>OR4F4</th>\n",
       "      <th>PRKACA</th>\n",
       "      <th>GOLGA6L2</th>\n",
       "    </tr>\n",
       "  </thead>\n",
       "  <tbody>\n",
       "    <tr>\n",
       "      <th>Govaere</th>\n",
       "      <td>-0.096382</td>\n",
       "      <td>0.009195</td>\n",
       "      <td>-0.008632</td>\n",
       "      <td>0.061838</td>\n",
       "      <td>0.030286</td>\n",
       "      <td>0.447148</td>\n",
       "      <td>0.089542</td>\n",
       "      <td>-0.120302</td>\n",
       "      <td>-0.145121</td>\n",
       "      <td>0.146927</td>\n",
       "      <td>...</td>\n",
       "      <td>0.290768</td>\n",
       "      <td>0.363804</td>\n",
       "      <td>-0.006403</td>\n",
       "      <td>0.355361</td>\n",
       "      <td>0.000000</td>\n",
       "      <td>0.004881</td>\n",
       "      <td>0.238259</td>\n",
       "      <td>-0.001555</td>\n",
       "      <td>0.122379</td>\n",
       "      <td>0.000410</td>\n",
       "    </tr>\n",
       "    <tr>\n",
       "      <th>Hoang</th>\n",
       "      <td>-0.062105</td>\n",
       "      <td>-0.050000</td>\n",
       "      <td>-0.134287</td>\n",
       "      <td>0.062784</td>\n",
       "      <td>-0.022076</td>\n",
       "      <td>0.238787</td>\n",
       "      <td>0.041186</td>\n",
       "      <td>-0.233083</td>\n",
       "      <td>-0.005735</td>\n",
       "      <td>0.005592</td>\n",
       "      <td>...</td>\n",
       "      <td>-0.112522</td>\n",
       "      <td>0.234123</td>\n",
       "      <td>-0.020329</td>\n",
       "      <td>-0.265315</td>\n",
       "      <td>0.000000</td>\n",
       "      <td>0.012160</td>\n",
       "      <td>0.033251</td>\n",
       "      <td>-0.005382</td>\n",
       "      <td>-0.071178</td>\n",
       "      <td>-0.004002</td>\n",
       "    </tr>\n",
       "    <tr>\n",
       "      <th>pantono</th>\n",
       "      <td>0.005005</td>\n",
       "      <td>0.034783</td>\n",
       "      <td>0.083468</td>\n",
       "      <td>0.061608</td>\n",
       "      <td>0.183765</td>\n",
       "      <td>-0.174059</td>\n",
       "      <td>0.074856</td>\n",
       "      <td>-0.010839</td>\n",
       "      <td>0.029503</td>\n",
       "      <td>0.026524</td>\n",
       "      <td>...</td>\n",
       "      <td>0.051178</td>\n",
       "      <td>0.073296</td>\n",
       "      <td>-0.007174</td>\n",
       "      <td>-0.023792</td>\n",
       "      <td>0.011226</td>\n",
       "      <td>0.003329</td>\n",
       "      <td>0.147142</td>\n",
       "      <td>0.003620</td>\n",
       "      <td>0.068342</td>\n",
       "      <td>0.009000</td>\n",
       "    </tr>\n",
       "  </tbody>\n",
       "</table>\n",
       "<p>3 rows × 26001 columns</p>\n",
       "</div>"
      ],
      "text/plain": [
       "           TSPAN6      TNMD      DPM1     SCYL3  C1orf112       FGR       CFH  \\\n",
       "Govaere -0.096382  0.009195 -0.008632  0.061838  0.030286  0.447148  0.089542   \n",
       "Hoang   -0.062105 -0.050000 -0.134287  0.062784 -0.022076  0.238787  0.041186   \n",
       "pantono  0.005005  0.034783  0.083468  0.061608  0.183765 -0.174059  0.074856   \n",
       "\n",
       "            FUCA2      GCLC      NFYA  ...     DDX51      YBX2    NANOS3  \\\n",
       "Govaere -0.120302 -0.145121  0.146927  ...  0.290768  0.363804 -0.006403   \n",
       "Hoang   -0.233083 -0.005735  0.005592  ... -0.112522  0.234123 -0.020329   \n",
       "pantono -0.010839  0.029503  0.026524  ...  0.051178  0.073296 -0.007174   \n",
       "\n",
       "             ISLR   CHEK2P5    TMEM95       C1R     OR4F4    PRKACA  GOLGA6L2  \n",
       "Govaere  0.355361  0.000000  0.004881  0.238259 -0.001555  0.122379  0.000410  \n",
       "Hoang   -0.265315  0.000000  0.012160  0.033251 -0.005382 -0.071178 -0.004002  \n",
       "pantono -0.023792  0.011226  0.003329  0.147142  0.003620  0.068342  0.009000  \n",
       "\n",
       "[3 rows x 26001 columns]"
      ]
     },
     "execution_count": 67,
     "metadata": {},
     "output_type": "execute_result"
    }
   ],
   "source": [
    "df_lean"
   ]
  },
  {
   "cell_type": "code",
   "execution_count": 68,
   "id": "6923290f",
   "metadata": {},
   "outputs": [],
   "source": [
    "# df_fatty"
   ]
  },
  {
   "cell_type": "code",
   "execution_count": 69,
   "id": "1e811425",
   "metadata": {},
   "outputs": [],
   "source": [
    "df_lean.to_csv('../results/optimized_mps/dx_lean_all_kostrzewski.csv')\n",
    "# df_fatty.to_csv('../results/optimized_mps/dx_fatty_govaere_kostrzewski.csv')"
   ]
  },
  {
   "cell_type": "code",
   "execution_count": 70,
   "id": "17e41390",
   "metadata": {},
   "outputs": [
    {
     "data": {
      "text/plain": [
       "[<matplotlib.lines.Line2D at 0x1ea5ba16c10>]"
      ]
     },
     "execution_count": 70,
     "metadata": {},
     "output_type": "execute_result"
    },
    {
     "data": {
      "image/png": "[encoded data removed]",
      "text/plain": [
       "<Figure size 432x288 with 1 Axes>"
      ]
     },
     "metadata": {},
     "output_type": "display_data"
    }
   ],
   "source": [
    "plt.plot(range(iters),loss_all)"
   ]
  },
  {
   "cell_type": "code",
   "execution_count": 21,
   "id": "724e590e",
   "metadata": {},
   "outputs": [],
   "source": [
    "# plt.plot(range(iters),exp_var_all)"
   ]
  },
  {
   "cell_type": "code",
   "execution_count": 71,
   "id": "bc7e3fb0",
   "metadata": {},
   "outputs": [
    {
     "data": {
      "text/plain": [
       "(array([1.25826075e-04, 7.54956449e-04, 2.01321720e-03, 4.02643440e-03,\n",
       "        8.68199917e-03, 3.76219964e-02, 2.50268063e-01, 1.05593242e+00,\n",
       "        1.74382357e+00, 1.01415816e-01, 3.34697359e-02, 1.63573897e-02,\n",
       "        6.92043412e-03, 4.65556477e-03, 2.13904327e-03, 2.13904327e-03,\n",
       "        5.03304300e-04, 3.77478225e-04, 1.25826075e-04, 2.51652150e-04]),\n",
       " array([-2.454527  , -2.1488664 , -1.8432059 , -1.5375454 , -1.231885  ,\n",
       "        -0.92622447, -0.620564  , -0.3149035 , -0.00924301,  0.29641747,\n",
       "         0.60207796,  0.90773845,  1.2133989 ,  1.5190594 ,  1.8247199 ,\n",
       "         2.1303804 ,  2.4360409 ,  2.7417014 ,  3.0473619 ,  3.3530223 ,\n",
       "         3.6586828 ], dtype=float32),\n",
       " <BarContainer object of 20 artists>)"
      ]
     },
     "execution_count": 71,
     "metadata": {},
     "output_type": "execute_result"
    },
    {
     "data": {
      "image/png": "[encoded data removed]",
      "text/plain": [
       "<Figure size 432x288 with 1 Axes>"
      ]
     },
     "metadata": {},
     "output_type": "display_data"
    }
   ],
   "source": [
    "plt.hist(XB.detach().cpu().numpy().flatten(),20,density=True)\n",
    "# plt.hist(Xstar_fatty.detach().cpu().numpy().flatten(),20,density=True)\n",
    "plt.hist(Xstar_lean.detach().cpu().numpy().flatten(),20,density=True)"
   ]
  },
  {
   "cell_type": "code",
   "execution_count": 74,
   "id": "feaa5098",
   "metadata": {},
   "outputs": [
    {
     "data": {
      "text/plain": [
       "(array([1.37139877e-03, 4.79989569e-03, 2.05709815e-03, 4.11419631e-03,\n",
       "        1.43996871e-02, 1.91995828e-02, 5.82844477e-02, 2.37937687e-01,\n",
       "        9.68893231e-01, 3.45523920e+00, 9.71087469e+00, 2.49663146e+00,\n",
       "        6.76785293e-01, 1.22740190e-01, 3.56563680e-02, 1.43996871e-02,\n",
       "        3.42849692e-03, 1.37139877e-03, 0.00000000e+00, 6.85699385e-04]),\n",
       " array([-0.5674472 , -0.5113584 , -0.45526958, -0.39918077, -0.34309196,\n",
       "        -0.28700316, -0.23091435, -0.17482555, -0.11873674, -0.06264794,\n",
       "        -0.00655913,  0.04952967,  0.10561848,  0.16170728,  0.21779609,\n",
       "         0.2738849 ,  0.3299737 ,  0.3860625 ,  0.4421513 ,  0.4982401 ,\n",
       "         0.5543289 ], dtype=float32),\n",
       " <BarContainer object of 20 artists>)"
      ]
     },
     "execution_count": 74,
     "metadata": {},
     "output_type": "execute_result"
    },
    {
     "data": {
      "image/png": "[encoded data removed]",
      "text/plain": [
       "<Figure size 432x288 with 1 Axes>"
      ]
     },
     "metadata": {},
     "output_type": "display_data"
    }
   ],
   "source": [
    "plt.hist(df_lean.values[0,:].flatten(),20,density=True)\n",
    "plt.hist(df_lean.values[1,:].flatten(),20,density=True)\n",
    "plt.hist(df_lean.values[2,:].flatten(),20,density=True)"
   ]
  },
  {
   "cell_type": "code",
   "execution_count": 24,
   "id": "d0f350a3",
   "metadata": {},
   "outputs": [],
   "source": [
    "# plt.hist(df_fatty.values.flatten(),20,density=True)"
   ]
  }
 ],
 "metadata": {
  "kernelspec": {
   "display_name": "Python 3",
   "language": "python",
   "name": "python3"
  },
  "language_info": {
   "codemirror_mode": {
    "name": "ipython",
    "version": 3
   },
   "file_extension": ".py",
   "mimetype": "text/x-python",
   "name": "python",
   "nbconvert_exporter": "python",
   "pygments_lexer": "ipython3",
   "version": "3.8.8"
  }
 },
 "nbformat": 4,
 "nbformat_minor": 5
}
