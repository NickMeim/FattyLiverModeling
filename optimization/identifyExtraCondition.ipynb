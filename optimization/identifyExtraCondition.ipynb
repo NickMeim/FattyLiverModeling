{
 "cells": [
  {
   "cell_type": "markdown",
   "id": "aeed2b2e",
   "metadata": {},
   "source": [
    "# Load dependencies"
   ]
  },
  {
   "cell_type": "code",
   "execution_count": 1,
   "id": "ffbfdc56",
   "metadata": {},
   "outputs": [],
   "source": [
    "import torch\n",
    "import torch.nn as nn\n",
    "import torch.nn.functional as F\n",
    "import numpy as np\n",
    "import pandas as pd\n",
    "from scipy.stats import pearsonr\n",
    "from sklearn.preprocessing import StandardScaler\n",
    "from sklearn.decomposition import PCA\n",
    "from sklearn.cluster import KMeans\n",
    "from sklearn.model_selection import train_test_split\n",
    "from sklearn.manifold import TSNE\n",
    "from sklearn.model_selection import train_test_split\n",
    "from sklearn.model_selection import KFold\n",
    "from matplotlib import pyplot as plt\n",
    "import seaborn as sns\n",
    "sns.set()"
   ]
  },
  {
   "cell_type": "code",
   "execution_count": 2,
   "id": "4258ff68",
   "metadata": {},
   "outputs": [],
   "source": [
    "device = torch.device('cuda')"
   ]
  },
  {
   "cell_type": "code",
   "execution_count": 3,
   "id": "57ffcb00",
   "metadata": {},
   "outputs": [],
   "source": [
    "#### from https://github.com/gngdb/pytorch-pca/tree/main ####\n",
    "def svd_flip(u, v):\n",
    "    # columns of u, rows of v\n",
    "    max_abs_cols = torch.argmax(torch.abs(u), 0)\n",
    "    i = torch.arange(u.shape[1]).to(u.device)\n",
    "    signs = torch.sign(u[max_abs_cols, i])\n",
    "    u *= signs\n",
    "    v *= signs.view(-1, 1)\n",
    "    return u, v\n",
    "\n",
    "class TorchPCA(nn.Module):\n",
    "    def __init__(self, n_components):\n",
    "        super().__init__()\n",
    "        self.n_components = n_components\n",
    "\n",
    "    #@torch.no_grad()\n",
    "    def fit(self, X):\n",
    "        n, d = X.size()\n",
    "        if self.n_components is not None:\n",
    "            d = min(self.n_components, d)\n",
    "        self.register_buffer(\"mean_\", X.mean(0, keepdim=True))\n",
    "        Z = X - self.mean_ # center\n",
    "        U, S, Vh = torch.linalg.svd(Z, full_matrices=False)\n",
    "        Vt = Vh\n",
    "        U, Vt = svd_flip(U, Vt)\n",
    "        self.register_buffer(\"components_\", Vt[:d])\n",
    "        return self\n",
    "\n",
    "    def forward(self, X):\n",
    "        return self.transform(X)\n",
    "\n",
    "    def transform(self, X):\n",
    "        assert hasattr(self, \"components_\"), \"PCA must be fit before use.\"\n",
    "        return torch.matmul(X - self.mean_, self.components_.t())\n",
    "\n",
    "    def fit_transform(self, X):\n",
    "        self.fit(X)\n",
    "        return self.transform(X)\n",
    "\n",
    "    def inverse_transform(self, Y):\n",
    "        assert hasattr(self, \"components_\"), \"PCA must be fit before use.\"\n",
    "        return torch.matmul(Y, self.components_) + self.mean_"
   ]
  },
  {
   "cell_type": "code",
   "execution_count": 4,
   "id": "f8440447",
   "metadata": {},
   "outputs": [],
   "source": [
    "def rank_tensor(x):\n",
    "    \"\"\"\n",
    "    Returns the ranks of the elements in the input tensor x.\n",
    "    \"\"\"\n",
    "    tmp = x.argsort()\n",
    "    ranks = torch.zeros_like(tmp)\n",
    "    ranks[tmp] = torch.arange(len(x), device=x.device)\n",
    "    return ranks\n",
    "\n",
    "def spearman_corr(x, y):\n",
    "    \"\"\"\n",
    "    Calculates the differentiable Spearman correlation between two tensors x and y.\n",
    "    \"\"\"\n",
    "    assert x.shape == y.shape, \"Input tensors must have the same shape\"\n",
    "    \n",
    "    n = x.size(0)\n",
    "\n",
    "    # Rank the tensors\n",
    "    x_rank = rank_tensor(x).float()\n",
    "    y_rank = rank_tensor(y).float()\n",
    "    \n",
    "    # Compute the covariance between the ranks\n",
    "    x_rank_mean = x_rank.mean()\n",
    "    y_rank_mean = y_rank.mean()\n",
    "    \n",
    "    cov_xy = ((x_rank - x_rank_mean) * (y_rank - y_rank_mean)).mean()\n",
    "    \n",
    "    # Compute the standard deviations of the ranks\n",
    "    std_x_rank = x_rank.std()\n",
    "    std_y_rank = y_rank.std()\n",
    "    \n",
    "    # Compute the Spearman correlation\n",
    "    spearman_corr = cov_xy / (std_x_rank * std_y_rank)\n",
    "    \n",
    "    return spearman_corr\n"
   ]
  },
  {
   "cell_type": "markdown",
   "id": "02b77fda",
   "metadata": {},
   "source": [
    "# Load data"
   ]
  },
  {
   "cell_type": "code",
   "execution_count": 5,
   "id": "68a41fb2",
   "metadata": {},
   "outputs": [],
   "source": [
    "X_A = pd.read_csv('X_Govaere.csv',index_col=0)\n",
    "X_B = pd.read_csv('X_Kostrzewski_grouped.csv',index_col=0)\n",
    "Y_A = pd.read_csv('Y_Govaere.csv',index_col=0)\n",
    "Wh = pd.read_csv('../results/Wh_govaere.csv',index_col=0)\n",
    "W_extra = pd.read_csv('../results/Wm_kostrzewski_extra.csv',index_col=0)\n",
    "start_ind = 'high_lean_FALSE_FALSE_FALSE_FALSE'\n",
    "# lean_control_ind = 'high_lean_FALSE_FALSE_FALSE_FALSE' # in the pair that explains most of the variance it is the control\n",
    "# fatty_control_ind = 'high_fat_FALSE_FALSE_FALSE_FALSE'"
   ]
  },
  {
   "cell_type": "code",
   "execution_count": 6,
   "id": "61971042",
   "metadata": {},
   "outputs": [],
   "source": [
    "W_extra = pd.read_csv('../results/Wm_kostrzewski_extra.csv',index_col=0)"
   ]
  },
  {
   "cell_type": "code",
   "execution_count": 7,
   "id": "307f1aa1",
   "metadata": {},
   "outputs": [
    {
     "name": "stdout",
     "output_type": "stream",
     "text": [
      "3569.181344230154\n"
     ]
    }
   ],
   "source": [
    "# get total variance of X_A\n",
    "varA = np.var(X_A,axis=0).sum()\n",
    "print(varA)"
   ]
  },
  {
   "cell_type": "markdown",
   "id": "f7bca390",
   "metadata": {},
   "source": [
    "# Get PCA loadings"
   ]
  },
  {
   "cell_type": "code",
   "execution_count": 8,
   "id": "32e95e82",
   "metadata": {},
   "outputs": [],
   "source": [
    "# initialize a PCA object with the largest value of n_components you can\n",
    "pca = PCA()\n",
    "# fit your PCA object to your data\n",
    "pca.fit(X_B)\n",
    "# transform your data into PCA space\n",
    "Z_B = pca.transform(X_B)"
   ]
  },
  {
   "cell_type": "code",
   "execution_count": 9,
   "id": "9f7b0d0d",
   "metadata": {},
   "outputs": [
    {
     "data": {
      "text/plain": [
       "Text(0.5, 1.0, 'in-vitro model PC space')"
      ]
     },
     "execution_count": 9,
     "metadata": {},
     "output_type": "execute_result"
    },
    {
     "data": {
      "image/png": "[encoded data removed]",
      "text/plain": [
       "<Figure size 432x288 with 1 Axes>"
      ]
     },
     "metadata": {},
     "output_type": "display_data"
    }
   ],
   "source": [
    "pca_data = pd.DataFrame(data={'PC1':Z_B[:,0], 'PC2':Z_B[:,1]})\n",
    "# pca_data = pd.concat([pca_data,pd.DataFrame(data={'PC1':Z_A_B[:,0], 'PC2':Z_A_B[:,1]})])\n",
    "# pca_data['dataset'] = ['in-vitro model' for i in range(Z_B.shape[0])] + ['humans' for i in range(Z_A_B.shape[0])]\n",
    "# plot our PCA transformed data using sns.scatterplot() (set hue = target)\n",
    "sns.scatterplot(data = pca_data , x = 'PC1',y = 'PC2', s =60 , palette= 'icefire')\n",
    "plt.title('in-vitro model PC space')"
   ]
  },
  {
   "cell_type": "code",
   "execution_count": 10,
   "id": "ab6bc727",
   "metadata": {},
   "outputs": [
    {
     "name": "stdout",
     "output_type": "stream",
     "text": [
      "(48, 26001)\n"
     ]
    }
   ],
   "source": [
    "loadings = pca.components_\n",
    "print(loadings.shape)"
   ]
  },
  {
   "cell_type": "code",
   "execution_count": 11,
   "id": "4d79f6c9",
   "metadata": {},
   "outputs": [
    {
     "name": "stdout",
     "output_type": "stream",
     "text": [
      "The explained variance of the human data in the PC-space of liver chip is 32.44 %\n"
     ]
    }
   ],
   "source": [
    "Z_A_B = np.dot(X_A,loadings.T)\n",
    "varAB = np.var(Z_A_B,axis=0).sum()\n",
    "print('The explained variance of the human data in the PC-space of liver chip is {:.2f} %'.format(100*varAB/varA))"
   ]
  },
  {
   "cell_type": "markdown",
   "id": "2dbf7124",
   "metadata": {},
   "source": [
    "# Initialize perturbation as a small random dX"
   ]
  },
  {
   "cell_type": "code",
   "execution_count": 12,
   "id": "2ad76ca0",
   "metadata": {},
   "outputs": [],
   "source": [
    "XB_start = X_B.loc[start_ind,:].values.reshape(1,X_B.shape[1])\n",
    "# XB_lean = X_B.loc[lean_control_ind,:].values.reshape(1,X_B.shape[1])\n",
    "# XB_fatty = X_B.loc[fatty_control_ind,:].values.reshape(1,X_B.shape[1])\n",
    "dX = np.random.normal(X_B.mean(0).values,X_B.std(0).values,size=(1,XB_start.shape[1]))\n",
    "dX = torch.tensor(dX).float().to(device)\n",
    "Input_start = torch.nn.Parameter(dX, requires_grad = True)\n",
    "Input_start.retain_grad()\n",
    "optimizer = torch.optim.Adam([Input_start],lr= 0.1,weight_decay=0)\n",
    "XB_start = torch.tensor(XB_start).float().to(device)\n",
    "XB_start = torch.mean(XB_start,0,keepdim = True)\n",
    "XB = torch.tensor(X_B.values).float().to(device)\n",
    "XA = torch.tensor(X_A.values).float().to(device)\n",
    "W_A = torch.tensor(Wh.values).float().to(device)\n",
    "W_B_extra = torch.tensor(W_extra.values).float().to(device)\n",
    "Wm = torch.tensor(pca.components_.T).float().to(device)\n",
    "W_tot = torch.concat([Wm,W_B_extra],dim=1)\n",
    "W_tot = W_tot[:,:-1]"
   ]
  },
  {
   "cell_type": "code",
   "execution_count": 13,
   "id": "1edadd92",
   "metadata": {},
   "outputs": [
    {
     "data": {
      "text/plain": [
       "torch.Size([26001, 48])"
      ]
     },
     "execution_count": 13,
     "metadata": {},
     "output_type": "execute_result"
    }
   ],
   "source": [
    "Wm.shape"
   ]
  },
  {
   "cell_type": "code",
   "execution_count": 14,
   "id": "5a66fa73",
   "metadata": {},
   "outputs": [
    {
     "name": "stdout",
     "output_type": "stream",
     "text": [
      "torch.Size([1, 26001])\n"
     ]
    }
   ],
   "source": [
    "print(XB_start.shape)"
   ]
  },
  {
   "cell_type": "code",
   "execution_count": 15,
   "id": "373371d3",
   "metadata": {},
   "outputs": [
    {
     "data": {
      "text/plain": [
       "torch.Size([26001, 49])"
      ]
     },
     "execution_count": 15,
     "metadata": {},
     "output_type": "execute_result"
    }
   ],
   "source": [
    "W_tot.shape"
   ]
  },
  {
   "cell_type": "code",
   "execution_count": 16,
   "id": "1cdc50aa",
   "metadata": {
    "scrolled": true
   },
   "outputs": [
    {
     "name": "stdout",
     "output_type": "stream",
     "text": [
      "Sample 0 Iteration=0, loss=48.1023\n",
      "Sample 0 Iteration=200, loss=-18.1638\n",
      "Sample 0 Iteration=400, loss=-24.8358\n",
      "Sample 0 Iteration=600, loss=40.6132\n",
      "Sample 0 Iteration=800, loss=-47.7176\n",
      "Sample 0 Iteration=999, loss=-51.4281\n",
      "[0.9999336  0.9973255  0.9982366  0.9912336  0.9889729  0.6705473\n",
      " 0.7368659  0.7840855  0.8964049  0.9386755  0.9995961  0.75969803\n",
      " 0.75921273 0.9614744  0.98603964 0.9999981  0.9999874  0.9996851\n",
      " 0.9960747  0.9988113  0.9916401  0.98961985 0.9972512  0.9985355\n",
      " 0.99264    0.9884717  0.99944615 0.9997971  0.9996542  0.9980518\n",
      " 0.996159   0.9973869  0.9995043  0.9999166  0.99886274 0.9997774\n",
      " 0.9996015  0.999597   0.9999754  0.99820447 0.99879515 0.99969286\n",
      " 0.9998424  0.9881862  0.9915566  0.9935777  0.9851875  0.99364215\n",
      " 0.6934708 ]\n",
      "0.6705473\n",
      "Sample 1 Iteration=0, loss=-53.2247\n",
      "Sample 1 Iteration=200, loss=-54.5887\n",
      "Sample 1 Iteration=400, loss=-56.2266\n",
      "Sample 1 Iteration=600, loss=-56.1257\n",
      "Sample 1 Iteration=800, loss=-56.7809\n",
      "Sample 1 Iteration=999, loss=-55.7793\n",
      "[0.99991065 0.9967512  0.991335   0.9784081  0.9872429  0.72241074\n",
      " 0.6873384  0.9763319  0.99862313 0.9999025  0.998297   0.9495716\n",
      " 0.95185226 0.9962365  0.9971176  0.99999183 0.9997872  0.9996396\n",
      " 0.99884886 0.999971   0.9975941  0.9975505  0.99997646 0.9998275\n",
      " 0.9989267  0.99736893 0.999996   0.99980307 0.9999168  0.9996075\n",
      " 0.9992527  0.9996796  0.9997991  0.99984235 0.9997267  0.9999994\n",
      " 0.99993956 0.999954   0.9999583  0.9997222  0.9999251  0.9999763\n",
      " 0.9999829  0.9951521  0.9969665  0.997555   0.9954034  0.9983\n",
      " 0.69430286]\n",
      "0.6873384\n",
      "Sample 2 Iteration=0, loss=-56.0749\n",
      "Sample 2 Iteration=200, loss=-56.3267\n",
      "Sample 2 Iteration=400, loss=-54.7452\n",
      "Sample 2 Iteration=600, loss=-56.7976\n",
      "Sample 2 Iteration=800, loss=-54.4613\n",
      "Sample 2 Iteration=999, loss=-54.7048\n",
      "[0.99990857 0.99669456 0.9903208  0.9775161  0.9859789  0.72312564\n",
      " 0.6868705  0.9770684  0.9985207  0.999896   0.99826497 0.94853157\n",
      " 0.9503161  0.9958906  0.9969761  0.99998456 0.99976015 0.9995515\n",
      " 0.9988621  0.99995774 0.9975514  0.997669   0.9999571  0.9998504\n",
      " 0.99895823 0.9974977  0.9999998  0.9998015  0.9998995  0.9996014\n",
      " 0.9992471  0.999704   0.99980044 0.99983    0.99973387 0.99999994\n",
      " 0.99995095 0.99995196 0.9999511  0.99972856 0.999928   0.9999845\n",
      " 0.99997836 0.9949089  0.9966608  0.9976413  0.9953558  0.9983271\n",
      " 0.7076378 ]\n",
      "0.6868705\n",
      "Sample 3 Iteration=0, loss=-55.0047\n",
      "Sample 3 Iteration=200, loss=-53.2557\n",
      "Sample 3 Iteration=400, loss=-56.3286\n",
      "Sample 3 Iteration=600, loss=-56.6319\n",
      "Sample 3 Iteration=800, loss=-54.0356\n",
      "Sample 3 Iteration=999, loss=-56.6203\n",
      "[0.99990934 0.996709   0.9916465  0.97872263 0.98681617 0.70119786\n",
      " 0.708443   0.97779524 0.99870086 0.9999021  0.9983079  0.9495647\n",
      " 0.9516825  0.996185   0.997121   0.99998766 0.99978954 0.99962324\n",
      " 0.9988501  0.9999702  0.9976563  0.9976041  0.99997205 0.9998265\n",
      " 0.99895436 0.9973919  0.99999785 0.99980843 0.99991876 0.99959254\n",
      " 0.99919957 0.99967647 0.999789   0.99983215 0.9997099  0.99999684\n",
      " 0.99993086 0.9999451  0.9999532  0.99967355 0.9999134  0.9999789\n",
      " 0.9999762  0.9949746  0.99687654 0.99751353 0.99538493 0.9983244\n",
      " 0.70421326]\n",
      "0.70119786\n",
      "Sample 4 Iteration=0, loss=-55.3566\n",
      "Sample 4 Iteration=200, loss=-56.8141\n",
      "Sample 4 Iteration=400, loss=-56.0020\n",
      "Sample 4 Iteration=600, loss=-54.4880\n",
      "Sample 4 Iteration=800, loss=-56.9284\n",
      "Sample 4 Iteration=999, loss=-54.0784\n",
      "[0.99991035 0.9968064  0.9928097  0.98114556 0.98981684 0.7199439\n",
      " 0.6891214  0.97353554 0.9984545  0.999938   0.99800783 0.9381323\n",
      " 0.9400624  0.99543566 0.99656206 0.99997944 0.99974054 0.9995344\n",
      " 0.9987282  0.9999532  0.9972923  0.9972882  0.99996644 0.99980074\n",
      " 0.9987495  0.9971351  0.9999998  0.9997708  0.9999139  0.9995492\n",
      " 0.99914086 0.9996415  0.9997428  0.99982756 0.9996391  0.9999939\n",
      " 0.999934   0.9999296  0.9999546  0.99967724 0.9999183  0.999975\n",
      " 0.9999811  0.99433297 0.99621457 0.99731064 0.9948059  0.9980641\n",
      " 0.6534858 ]\n",
      "0.6534858\n",
      "Sample 5 Iteration=0, loss=-54.9355\n",
      "Sample 5 Iteration=200, loss=-53.7674\n",
      "Sample 5 Iteration=400, loss=-54.6399\n",
      "Sample 5 Iteration=600, loss=-57.1058\n",
      "Sample 5 Iteration=800, loss=-55.8921\n",
      "Sample 5 Iteration=999, loss=-55.4452\n",
      "[0.99991065 0.9967708  0.9911546  0.9787252  0.988099   0.7429754\n",
      " 0.6649132  0.97583246 0.9986227  0.9999153  0.9981865  0.94695055\n",
      " 0.949192   0.996065   0.9969042  0.99998933 0.9997445  0.9995927\n",
      " 0.9988246  0.99995714 0.99750304 0.99747443 0.9999768  0.9998227\n",
      " 0.9988861  0.9973637  0.99999857 0.99977773 0.9999147  0.99959815\n",
      " 0.99925303 0.99969405 0.9997654  0.9998357  0.9997014  0.99999905\n",
      " 0.99994427 0.99995357 0.99995995 0.999708   0.9999109  0.9999824\n",
      " 0.99998206 0.99493575 0.99676436 0.99757797 0.99534667 0.9982982\n",
      " 0.6639602 ]\n",
      "0.6639602\n",
      "Sample 6 Iteration=0, loss=-55.2843\n",
      "Sample 6 Iteration=200, loss=-55.8345\n",
      "Sample 6 Iteration=400, loss=-55.0305\n",
      "Sample 6 Iteration=600, loss=-53.8842\n",
      "Sample 6 Iteration=800, loss=-55.5819\n",
      "Sample 6 Iteration=999, loss=-56.3871\n",
      "[0.99990904 0.99672264 0.99141145 0.9781361  0.98772323 0.6950603\n",
      " 0.71538746 0.9743437  0.99862146 0.99994105 0.9980756  0.94200736\n",
      " 0.9440857  0.9959207  0.9966078  0.9999838  0.99970394 0.9995079\n",
      " 0.99880755 0.9999513  0.9974429  0.9974399  0.99997395 0.9998051\n",
      " 0.998849   0.9973141  1.         0.9997744  0.99989825 0.999582\n",
      " 0.99918836 0.9996703  0.9997522  0.99985206 0.99966604 0.99999917\n",
      " 0.9999406  0.99996245 0.9999673  0.9997223  0.99989516 0.9999814\n",
      " 0.9999859  0.99446934 0.9963406  0.9974403  0.9950969  0.9982581\n",
      " 0.6929827 ]\n",
      "0.6929827\n",
      "Sample 7 Iteration=0, loss=-53.6847\n",
      "Sample 7 Iteration=200, loss=-56.5509\n",
      "Sample 7 Iteration=400, loss=-56.2421\n",
      "Sample 7 Iteration=600, loss=-56.8429\n",
      "Sample 7 Iteration=800, loss=-54.7660\n",
      "Sample 7 Iteration=999, loss=-55.4768\n",
      "[0.9999111  0.99679756 0.9912374  0.97814155 0.9881555  0.74044\n",
      " 0.66742784 0.97748244 0.9988118  0.9999246  0.9983111  0.951332\n",
      " 0.953857   0.99644285 0.9971225  0.9999891  0.9997893  0.9996279\n",
      " 0.99888206 0.9999673  0.9976964  0.9976547  0.99997544 0.999831\n",
      " 0.9989579  0.9974771  0.9999969  0.9998071  0.9999174  0.999614\n",
      " 0.9992292  0.999673   0.999791   0.9998538  0.999711   0.9999965\n",
      " 0.9999467  0.9999557  0.999973   0.9997276  0.9999237  0.9999746\n",
      " 0.9999805  0.99528867 0.9970448  0.99758786 0.9955647  0.99840146\n",
      " 0.6667074 ]\n",
      "0.6667074\n",
      "Sample 8 Iteration=0, loss=-53.5825\n",
      "Sample 8 Iteration=200, loss=-53.0164\n",
      "Sample 8 Iteration=400, loss=-56.8086\n",
      "Sample 8 Iteration=600, loss=-56.3542\n",
      "Sample 8 Iteration=800, loss=-55.9461\n",
      "Sample 8 Iteration=999, loss=-56.6465\n",
      "[0.999908   0.99668735 0.9910974  0.9784773  0.98736185 0.70126754\n",
      " 0.70902073 0.9760032  0.9986612  0.9998893  0.9981321  0.94515324\n",
      " 0.946873   0.99587065 0.9967303  0.9999843  0.99972737 0.9995706\n",
      " 0.9988537  0.9999545  0.9974908  0.9975117  0.9999596  0.9998252\n",
      " 0.9988525  0.9972979  0.9999982  0.9997622  0.9999103  0.9995474\n",
      " 0.9991688  0.9996709  0.9997721  0.9998304  0.9996882  0.9999976\n",
      " 0.999944   0.99995345 0.9999632  0.99969494 0.9999014  0.9999789\n",
      " 0.9999858  0.9946281  0.99652827 0.997425   0.9951687  0.9982155\n",
      " 0.69288504]\n",
      "0.69288504\n",
      "Sample 9 Iteration=0, loss=-56.7208\n",
      "Sample 9 Iteration=200, loss=-56.8306\n",
      "Sample 9 Iteration=400, loss=-55.6590\n",
      "Sample 9 Iteration=600, loss=-56.4860\n",
      "Sample 9 Iteration=800, loss=-56.6235\n",
      "Sample 9 Iteration=999, loss=-53.0404\n",
      "[0.9999108  0.99674624 0.99175906 0.9790979  0.9870367  0.73861593\n",
      " 0.6689919  0.9795958  0.9987378  0.9998925  0.99852616 0.9547863\n",
      " 0.95730233 0.99662745 0.99749887 0.99998987 0.9998131  0.9997638\n",
      " 0.99896103 0.99996907 0.99775326 0.99781525 0.9999849  0.9998062\n",
      " 0.999148   0.9974965  0.9999989  0.9998234  0.9999408  0.9996173\n",
      " 0.9993582  0.99965197 0.9997714  0.99980056 0.9997256  0.9999999\n",
      " 0.9999434  0.99996054 0.99997216 0.9997106  0.9999342  0.99997944\n",
      " 0.99997705 0.9955816  0.99719316 0.9976673  0.9955673  0.9983847\n",
      " 0.64899296]\n",
      "0.64899296\n",
      "Sample 10 Iteration=0, loss=-53.0816\n",
      "Sample 10 Iteration=200, loss=-55.6201\n",
      "Sample 10 Iteration=400, loss=-56.7917\n",
      "Sample 10 Iteration=600, loss=-56.3260\n",
      "Sample 10 Iteration=800, loss=-55.7690\n",
      "Sample 10 Iteration=999, loss=-57.3274\n",
      "[0.99990934 0.9967265  0.9911627  0.9778555  0.9874299  0.70429146\n",
      " 0.7061773  0.974728   0.9986562  0.9999366  0.9980634  0.94367856\n",
      " 0.94570386 0.9960106  0.99672997 0.9999882  0.9997168  0.9995086\n",
      " 0.99881756 0.9999532  0.99742514 0.9974131  0.9999644  0.9998087\n",
      " 0.99885356 0.9973603  0.99999946 0.9997767  0.9999023  0.99958056\n",
      " 0.999183   0.9996636  0.99975514 0.99984115 0.9996719  0.9999961\n",
      " 0.9999444  0.9999512  0.99995756 0.99969465 0.99988776 0.9999767\n",
      " 0.9999869  0.9946295  0.9965411  0.9974322  0.99514866 0.9982961\n",
      " 0.69591904]\n",
      "0.69591904\n",
      "Sample 11 Iteration=0, loss=-56.5620\n"
     ]
    },
    {
     "name": "stdout",
     "output_type": "stream",
     "text": [
      "Sample 11 Iteration=200, loss=-53.9419\n",
      "Sample 11 Iteration=400, loss=-56.8810\n",
      "Sample 11 Iteration=600, loss=-55.1256\n",
      "Sample 11 Iteration=800, loss=-55.9445\n",
      "Sample 11 Iteration=999, loss=-54.9283\n",
      "[0.9999102  0.99673057 0.9907508  0.977434   0.98752815 0.72673124\n",
      " 0.6824747  0.97920495 0.99886787 0.99991304 0.9984349  0.9554275\n",
      " 0.9575324  0.9965466  0.9972395  0.9999925  0.999788   0.99963635\n",
      " 0.9989018  0.9999732  0.9977233  0.99774474 0.9999682  0.99982166\n",
      " 0.9989781  0.99750686 0.99999726 0.99980825 0.9999155  0.9996238\n",
      " 0.99928635 0.9996959  0.99981153 0.999849   0.9997402  0.9999999\n",
      " 0.9999447  0.9999528  0.99996257 0.99972796 0.9999333  0.9999842\n",
      " 0.9999713  0.9953475  0.9971009  0.99767303 0.99567056 0.99838257\n",
      " 0.69237   ]\n",
      "0.6824747\n",
      "Sample 12 Iteration=0, loss=-55.6137\n",
      "Sample 12 Iteration=200, loss=-56.7954\n",
      "Sample 12 Iteration=400, loss=-54.5370\n",
      "Sample 12 Iteration=600, loss=-56.1727\n",
      "Sample 12 Iteration=800, loss=-55.0994\n",
      "Sample 12 Iteration=999, loss=-54.4096\n",
      "[0.9999097  0.9967199  0.9912525  0.97890455 0.9881241  0.7211121\n",
      " 0.6883026  0.97727585 0.99868333 0.9998919  0.9983349  0.94847125\n",
      " 0.95053756 0.995985   0.9970059  0.9999816  0.9997715  0.9995951\n",
      " 0.99883246 0.9999649  0.99760985 0.99757355 0.99997383 0.9998361\n",
      " 0.9989356  0.99741733 0.9999995  0.9997799  0.9999211  0.9995957\n",
      " 0.9992897  0.99972206 0.99979925 0.9998534  0.99971175 0.99999696\n",
      " 0.999939   0.999944   0.9999694  0.99974173 0.99991715 0.9999794\n",
      " 0.9999834  0.9948263  0.99659264 0.99759144 0.99536604 0.99830043\n",
      " 0.6650095 ]\n",
      "0.6650095\n",
      "Sample 13 Iteration=0, loss=-54.4012\n",
      "Sample 13 Iteration=200, loss=-53.8808\n",
      "Sample 13 Iteration=400, loss=-57.1209\n",
      "Sample 13 Iteration=600, loss=-55.6107\n",
      "Sample 13 Iteration=800, loss=-54.7165\n",
      "Sample 13 Iteration=999, loss=-54.7856\n",
      "[0.999909   0.9967397  0.99240804 0.979886   0.9896594  0.6817406\n",
      " 0.7276067  0.97269255 0.9984921  0.99993414 0.99786043 0.9343777\n",
      " 0.93579245 0.9950872  0.9962621  0.9999765  0.99971646 0.999467\n",
      " 0.99872893 0.9999436  0.9973251  0.997376   0.99995536 0.9998057\n",
      " 0.99876195 0.99703383 0.9999998  0.99975586 0.9999143  0.99953526\n",
      " 0.99916947 0.9996789  0.9997673  0.9998378  0.999651   0.9999945\n",
      " 0.99992317 0.9999367  0.9999597  0.99967897 0.9998865  0.99997383\n",
      " 0.99998087 0.9940217  0.9960467  0.99721164 0.99470264 0.9981091\n",
      " 0.69910675]\n",
      "0.6817406\n",
      "Sample 14 Iteration=0, loss=-56.4926\n",
      "Sample 14 Iteration=200, loss=-56.4345\n",
      "Sample 14 Iteration=400, loss=-56.6797\n",
      "Sample 14 Iteration=600, loss=-54.3934\n",
      "Sample 14 Iteration=800, loss=-52.3727\n",
      "Sample 14 Iteration=999, loss=-56.1172\n",
      "[0.99990845 0.99668974 0.99135786 0.97898483 0.98684585 0.71383095\n",
      " 0.6962786  0.9768204  0.9985227  0.99989355 0.99813014 0.9476584\n",
      " 0.94956154 0.99602634 0.99699724 0.9999874  0.9997565  0.99959874\n",
      " 0.9988407  0.9999563  0.99738    0.9974186  0.999971   0.99982035\n",
      " 0.99887854 0.9973373  0.9999983  0.99976003 0.9999136  0.99955803\n",
      " 0.9991915  0.9996654  0.99978524 0.9998036  0.9997057  0.99999976\n",
      " 0.99994296 0.99993527 0.99996555 0.9997174  0.99992234 0.9999846\n",
      " 0.9999846  0.9947456  0.9966449  0.9974711  0.9951678  0.9982814\n",
      " 0.6827626 ]\n",
      "0.6827626\n",
      "Sample 15 Iteration=0, loss=-56.6514\n",
      "Sample 15 Iteration=200, loss=-56.6006\n",
      "Sample 15 Iteration=400, loss=-53.8981\n",
      "Sample 15 Iteration=600, loss=-56.4606\n",
      "Sample 15 Iteration=800, loss=-55.6577\n",
      "Sample 15 Iteration=999, loss=-56.5657\n",
      "[0.99991065 0.9967555  0.99110824 0.97793597 0.98738945 0.71891814\n",
      " 0.6914709  0.9763545  0.998726   0.9999317  0.9982185  0.94721544\n",
      " 0.9495961  0.9960624  0.9969269  0.9999878  0.99976283 0.99961203\n",
      " 0.9988509  0.9999651  0.99748474 0.9974585  0.9999717  0.99982715\n",
      " 0.998929   0.9973914  0.99999774 0.9997942  0.9999107  0.99955505\n",
      " 0.99921507 0.9996734  0.9997817  0.9998652  0.99971014 0.99999607\n",
      " 0.999948   0.9999578  0.9999496  0.9996739  0.99989736 0.99997777\n",
      " 0.9999852  0.99490243 0.99674374 0.99759907 0.99538535 0.9982976\n",
      " 0.69021153]\n",
      "0.69021153\n",
      "Sample 16 Iteration=0, loss=-56.0574\n",
      "Sample 16 Iteration=200, loss=-56.4093\n",
      "Sample 16 Iteration=400, loss=-55.6858\n",
      "Sample 16 Iteration=600, loss=-56.0420\n",
      "Sample 16 Iteration=800, loss=-56.8104\n",
      "Sample 16 Iteration=999, loss=-56.0918\n",
      "[0.99990886 0.9967484  0.9916614  0.97898835 0.98781973 0.69572204\n",
      " 0.7144676  0.9709429  0.9985507  0.99994975 0.99779695 0.9349861\n",
      " 0.93636656 0.9951699  0.99637467 0.99997735 0.9996798  0.99942386\n",
      " 0.9987518  0.9999439  0.9973469  0.9973528  0.9999411  0.9998138\n",
      " 0.9986664  0.99718606 0.99999946 0.99979097 0.9998991  0.9995295\n",
      " 0.99916166 0.99970156 0.99974895 0.9998298  0.999651   0.9999905\n",
      " 0.99993634 0.9999399  0.99994487 0.9996639  0.9999045  0.99997914\n",
      " 0.99998236 0.99390334 0.99591714 0.9972388  0.9947082  0.99807703\n",
      " 0.689277  ]\n",
      "0.689277\n",
      "Sample 17 Iteration=0, loss=-56.1631\n",
      "Sample 17 Iteration=200, loss=-55.1792\n",
      "Sample 17 Iteration=400, loss=-54.0005\n",
      "Sample 17 Iteration=600, loss=-57.1827\n",
      "Sample 17 Iteration=800, loss=-55.8112\n",
      "Sample 17 Iteration=999, loss=-54.1558\n",
      "[0.99991095 0.99676794 0.99058914 0.97691107 0.98719335 0.74106914\n",
      " 0.6668772  0.9790645  0.9988052  0.99994063 0.99850047 0.9551726\n",
      " 0.957755   0.9967905  0.9973601  0.99998987 0.99980915 0.9996767\n",
      " 0.99894875 0.99996793 0.997851   0.9978598  0.9999827  0.9998493\n",
      " 0.9990576  0.9975787  0.99999607 0.99981666 0.9999209  0.999632\n",
      " 0.9992826  0.9997021  0.99980557 0.99985963 0.99973536 0.9999997\n",
      " 0.99995214 0.9999571  0.99997413 0.99977076 0.99993473 0.9999805\n",
      " 0.9999841  0.99553525 0.9971919  0.9976476  0.9957094  0.998436\n",
      " 0.6836813 ]\n",
      "0.6668772\n",
      "Sample 18 Iteration=0, loss=-54.8979\n",
      "Sample 18 Iteration=200, loss=-55.6171\n",
      "Sample 18 Iteration=400, loss=-56.6231\n",
      "Sample 18 Iteration=600, loss=-56.0548\n",
      "Sample 18 Iteration=800, loss=-57.1173\n",
      "Sample 18 Iteration=999, loss=-56.2369\n",
      "[0.99991065 0.9967307  0.99066925 0.9770887  0.9868995  0.7176124\n",
      " 0.69242316 0.976778   0.9987799  0.99993056 0.9982024  0.94927824\n",
      " 0.95152926 0.9963669  0.99700594 0.9999895  0.9997615  0.99959576\n",
      " 0.9988809  0.99996185 0.99769294 0.9976586  0.99997634 0.9998352\n",
      " 0.99894834 0.9974081  0.99999744 0.9997874  0.99990344 0.99957836\n",
      " 0.99921894 0.9996782  0.9997841  0.9998563  0.9997192  0.9999973\n",
      " 0.9999446  0.9999592  0.9999652  0.9997095  0.99990195 0.99997944\n",
      " 0.9999879  0.9950816  0.99689215 0.9975647  0.99548006 0.9983604\n",
      " 0.7016778 ]\n",
      "0.69242316\n",
      "Sample 19 Iteration=0, loss=-56.5542\n",
      "Sample 19 Iteration=200, loss=-55.4448\n",
      "Sample 19 Iteration=400, loss=-55.3546\n",
      "Sample 19 Iteration=600, loss=-54.2836\n",
      "Sample 19 Iteration=800, loss=-56.5753\n",
      "Sample 19 Iteration=999, loss=-56.4688\n",
      "[0.99990976 0.9967626  0.99209696 0.97988886 0.9887474  0.69223064\n",
      " 0.7182203  0.9721806  0.998595   0.9999264  0.9979044  0.9360267\n",
      " 0.937798   0.99529874 0.9965077  0.99997854 0.9996919  0.9994978\n",
      " 0.99874276 0.9999484  0.99723977 0.9972195  0.99995726 0.9998074\n",
      " 0.9987094  0.9971279  0.999999   0.99975413 0.9998945  0.999546\n",
      " 0.999105   0.9996591  0.9997458  0.9998444  0.9996509  0.99999636\n",
      " 0.9999351  0.99995726 0.9999515  0.9996854  0.999906   0.99997926\n",
      " 0.99998677 0.99419165 0.99615496 0.99724895 0.9948865  0.998127\n",
      " 0.6835438 ]\n",
      "0.6835438\n",
      "Sample 20 Iteration=0, loss=-55.9747\n",
      "Sample 20 Iteration=200, loss=-56.4879\n",
      "Sample 20 Iteration=400, loss=-55.7860\n",
      "Sample 20 Iteration=600, loss=-54.8674\n",
      "Sample 20 Iteration=800, loss=-57.3159\n",
      "Sample 20 Iteration=999, loss=-56.5489\n",
      "[0.9999097  0.99674314 0.9916309  0.9786328  0.9883835  0.69534934\n",
      " 0.71524036 0.9748877  0.9986102  0.9999319  0.99803215 0.9423317\n",
      " 0.94434696 0.9958648  0.99676925 0.9999867  0.9997375  0.9995554\n",
      " 0.99877924 0.9999538  0.9973877  0.9974509  0.99997926 0.9998165\n",
      " 0.99883527 0.9971941  0.9999991  0.9997733  0.9999139  0.9995685\n",
      " 0.9991879  0.99968386 0.99979454 0.9998563  0.9996882  0.9999969\n",
      " 0.99993175 0.99995553 0.9999459  0.9997153  0.9999114  0.9999798\n",
      " 0.9999831  0.9946926  0.9965468  0.9974413  0.99507666 0.9981845\n",
      " 0.6990143 ]\n",
      "0.69534934\n",
      "Sample 21 Iteration=0, loss=-56.6307\n",
      "Sample 21 Iteration=200, loss=-54.5634\n",
      "Sample 21 Iteration=400, loss=-54.6921\n",
      "Sample 21 Iteration=600, loss=-55.9580\n",
      "Sample 21 Iteration=800, loss=-55.0151\n",
      "Sample 21 Iteration=999, loss=-56.7170\n",
      "[0.9999084  0.9966864  0.991162   0.97863346 0.98714566 0.7144885\n",
      " 0.69558686 0.97712    0.99863076 0.99990845 0.99818236 0.94727415\n",
      " 0.949199   0.9960296  0.9968455  0.9999837  0.9997439  0.99959075\n",
      " 0.99882656 0.99994737 0.9975292  0.99755764 0.9999769  0.9998414\n",
      " 0.99893725 0.9974321  0.99999785 0.99976885 0.9999009  0.99952865\n",
      " 0.9992215  0.99969155 0.9997907  0.9998393  0.9997127  0.9999993\n",
      " 0.9999463  0.99996173 0.9999579  0.9997059  0.99991107 0.999981\n",
      " 0.9999866  0.99480057 0.9966222  0.99758476 0.99526113 0.9982528\n",
      " 0.6921921 ]\n",
      "0.6921921\n",
      "Sample 22 Iteration=0, loss=-56.1654\n"
     ]
    },
    {
     "name": "stdout",
     "output_type": "stream",
     "text": [
      "Sample 22 Iteration=200, loss=-56.7382\n",
      "Sample 22 Iteration=400, loss=-54.8627\n",
      "Sample 22 Iteration=600, loss=-55.8271\n",
      "Sample 22 Iteration=800, loss=-53.3293\n",
      "Sample 22 Iteration=999, loss=-55.8865\n",
      "[0.99990714 0.9966803  0.991515   0.9802107  0.98821354 0.69236153\n",
      " 0.71818495 0.9757122  0.9982704  0.99986    0.99805367 0.93948245\n",
      " 0.94041824 0.9951322  0.99659604 0.9999776  0.99973226 0.99952644\n",
      " 0.9987455  0.99995184 0.9972267  0.99725163 0.9999578  0.9998264\n",
      " 0.9988606  0.997177   1.         0.99978334 0.9999156  0.99953675\n",
      " 0.99918777 0.999684   0.999785   0.9997984  0.9996441  0.9999998\n",
      " 0.99994147 0.9999519  0.99995977 0.9996845  0.9999157  0.9999798\n",
      " 0.9999807  0.9943245  0.9961476  0.99740416 0.99491256 0.99818146\n",
      " 0.7009833 ]\n",
      "0.69236153\n",
      "Sample 23 Iteration=0, loss=-55.9316\n",
      "Sample 23 Iteration=200, loss=-54.2016\n",
      "Sample 23 Iteration=400, loss=-54.5591\n",
      "Sample 23 Iteration=600, loss=-55.9880\n",
      "Sample 23 Iteration=800, loss=-56.3173\n",
      "Sample 23 Iteration=999, loss=-54.5514\n",
      "[0.9999091  0.99670213 0.99099076 0.9786428  0.9874555  0.73621386\n",
      " 0.67217207 0.9805617  0.9986752  0.999875   0.9985579  0.95679784\n",
      " 0.95889384 0.99649304 0.9973939  0.99998814 0.9998276  0.9997178\n",
      " 0.99894017 0.9999746  0.9978935  0.99789065 0.9999791  0.9998276\n",
      " 0.9990903  0.9975843  0.9999985  0.9998149  0.9999272  0.99960643\n",
      " 0.9992769  0.99967635 0.9998183  0.9998299  0.9997609  0.9999995\n",
      " 0.999955   0.9999422  0.9999579  0.99971795 0.99992996 0.9999789\n",
      " 0.999977   0.9954853  0.9971568  0.99767846 0.9956573  0.99839795\n",
      " 0.6769357 ]\n",
      "0.67217207\n",
      "Sample 24 Iteration=0, loss=-54.1304\n",
      "Sample 24 Iteration=200, loss=-54.0707\n",
      "Sample 24 Iteration=400, loss=-57.2703\n",
      "Sample 24 Iteration=600, loss=-57.0048\n",
      "Sample 24 Iteration=800, loss=-56.9885\n",
      "Sample 24 Iteration=999, loss=-53.9332\n",
      "[0.9999089  0.9967333  0.9923197  0.98007405 0.9894527  0.6652588\n",
      " 0.743486   0.9715092  0.99850386 0.9999361  0.99776864 0.93264127\n",
      " 0.93395406 0.99509686 0.9961744  0.99998    0.9996583  0.99943244\n",
      " 0.9987188  0.99994737 0.997089   0.9970447  0.9999636  0.99977875\n",
      " 0.998675   0.99703276 0.9999997  0.99974114 0.99988645 0.99952126\n",
      " 0.9990551  0.99962646 0.9997383  0.99984133 0.9996154  0.99999607\n",
      " 0.9999303  0.9999535  0.9999537  0.99966204 0.9998748  0.99998033\n",
      " 0.99998957 0.99371    0.9957401  0.9971544  0.99467415 0.9980678\n",
      " 0.6864366 ]\n",
      "0.6652588\n",
      "Sample 25 Iteration=0, loss=-56.3098\n",
      "Sample 25 Iteration=200, loss=-56.3244\n",
      "Sample 25 Iteration=400, loss=-55.3306\n",
      "Sample 25 Iteration=600, loss=-54.8411\n",
      "Sample 25 Iteration=800, loss=-56.8799\n",
      "Sample 25 Iteration=999, loss=-56.0368\n",
      "[0.9999094  0.9967611  0.9924026  0.98017454 0.989761   0.6990551\n",
      " 0.71097463 0.97390485 0.9985138  0.9999195  0.99799    0.93950826\n",
      " 0.94114476 0.99537057 0.9965626  0.99998283 0.9997337  0.99954486\n",
      " 0.99878764 0.9999649  0.9973047  0.99729586 0.9999584  0.9997882\n",
      " 0.99875665 0.9971358  0.9999999  0.9997797  0.9998977  0.9995651\n",
      " 0.9992336  0.9997001  0.9997785  0.99984115 0.9996484  0.99999714\n",
      " 0.99992985 0.9999443  0.999952   0.99968535 0.999911   0.99997896\n",
      " 0.9999819  0.99435675 0.9962614  0.99728745 0.99490595 0.9981401\n",
      " 0.68496394]\n",
      "0.68496394\n",
      "Sample 26 Iteration=0, loss=-56.1271\n",
      "Sample 26 Iteration=200, loss=-56.0726\n",
      "Sample 26 Iteration=400, loss=-56.9449\n",
      "Sample 26 Iteration=600, loss=-55.4524\n",
      "Sample 26 Iteration=800, loss=-55.6754\n",
      "Sample 26 Iteration=999, loss=-52.9419\n",
      "[0.9999085  0.9967102  0.9926713  0.9808067  0.9889174  0.6672299\n",
      " 0.7412198  0.97364885 0.99830586 0.99988717 0.99796116 0.9375726\n",
      " 0.9389135  0.9949786  0.9964749  0.99997735 0.99973786 0.9995188\n",
      " 0.9987002  0.9999615  0.997284   0.9972539  0.99996924 0.9998017\n",
      " 0.99866825 0.9969166  1.0000001  0.99977964 0.99990577 0.9994901\n",
      " 0.9990963  0.9996438  0.99976325 0.99980426 0.99965185 0.9999964\n",
      " 0.9999299  0.9999452  0.9999463  0.999628   0.99988395 0.9999816\n",
      " 0.99998546 0.99412405 0.9960258  0.99723107 0.9946095  0.9979856\n",
      " 0.7012374 ]\n",
      "0.6672299\n",
      "Sample 27 Iteration=0, loss=-53.8064\n",
      "Sample 27 Iteration=200, loss=-55.5902\n",
      "Sample 27 Iteration=400, loss=-55.4422\n",
      "Sample 27 Iteration=600, loss=-56.6916\n",
      "Sample 27 Iteration=800, loss=-54.9018\n",
      "Sample 27 Iteration=999, loss=-56.7608\n",
      "[0.9999094  0.9967201  0.9915367  0.9785385  0.98798305 0.69988143\n",
      " 0.7102926  0.97472006 0.9985895  0.99994993 0.9979879  0.9419026\n",
      " 0.9437735  0.9956485  0.99665374 0.99997914 0.9997123  0.9995127\n",
      " 0.9987826  0.9999493  0.997363   0.9973416  0.99996436 0.99981385\n",
      " 0.9988376  0.99722606 0.9999993  0.9997662  0.99990183 0.99954396\n",
      " 0.99919194 0.9996618  0.9997748  0.9998399  0.9996699  0.99999505\n",
      " 0.99993    0.99994713 0.999955   0.9996892  0.99990714 0.99998075\n",
      " 0.9999842  0.9946383  0.9965199  0.997437   0.99508977 0.9981834\n",
      " 0.69590294]\n",
      "0.69590294\n",
      "Sample 28 Iteration=0, loss=-56.7742\n",
      "Sample 28 Iteration=200, loss=-49.7752\n",
      "Sample 28 Iteration=400, loss=-49.8330\n",
      "Sample 28 Iteration=600, loss=-50.0731\n",
      "Sample 28 Iteration=800, loss=-49.4446\n",
      "Sample 28 Iteration=999, loss=-49.2282\n",
      "[0.9999166  0.9969222  0.99513954 0.9845255  0.99730635 0.6164374\n",
      " 0.9899691  0.9886697  0.9999888  0.9995295  0.9983542  0.9695574\n",
      " 0.9732022  0.999107   0.9980551  0.99997604 0.9994776  0.9996468\n",
      " 0.99891573 0.9998247  0.9980719  0.99847066 0.9998539  0.99981135\n",
      " 0.99929374 0.99831975 0.99999577 0.9998498  0.99989504 0.99979067\n",
      " 0.9994763  0.99996847 0.9998472  0.99990535 0.99984384 0.9999988\n",
      " 0.999979   0.999981   0.9999886  0.9998049  0.9999906  0.9999835\n",
      " 0.99998504 0.9965118  0.9982132  0.9981573  0.9974063  0.9989051\n",
      " 0.6187922 ]\n",
      "0.6164374\n",
      "Sample 29 Iteration=0, loss=-49.5625\n",
      "Sample 29 Iteration=200, loss=-50.1647\n",
      "Sample 29 Iteration=400, loss=-47.5760\n",
      "Sample 29 Iteration=600, loss=-49.8840\n",
      "Sample 29 Iteration=800, loss=-50.0227\n",
      "Sample 29 Iteration=999, loss=-49.1061\n",
      "[0.9999179  0.9969917  0.9951945  0.9835537  0.99715275 0.60878146\n",
      " 0.9879672  0.9884313  0.99998945 0.99951565 0.9983509  0.96907175\n",
      " 0.9731741  0.99913657 0.9981072  0.999981   0.9994809  0.99962354\n",
      " 0.99879855 0.999831   0.99807405 0.99846363 0.9998627  0.9997749\n",
      " 0.99930406 0.99829    0.9999986  0.9998427  0.99991137 0.99978924\n",
      " 0.9994569  0.9999713  0.9998281  0.99990636 0.9998513  0.9999999\n",
      " 0.99997973 0.9999871  0.99998564 0.9998207  0.9999941  0.9999827\n",
      " 0.9999828  0.9964797  0.9982442  0.9981359  0.99749666 0.9989689\n",
      " 0.61651516]\n",
      "0.60878146\n"
     ]
    },
    {
     "data": {
      "image/png": "[encoded data removed]",
      "text/plain": [
       "<Figure size 432x288 with 1 Axes>"
      ]
     },
     "metadata": {},
     "output_type": "display_data"
    }
   ],
   "source": [
    "df_pert = pd.DataFrame({})\n",
    "iters = 1000\n",
    "all_dx = np.zeros((30,XB.shape[1]))\n",
    "for j in range(30):\n",
    "    Input_start = torch.nn.Parameter(dX, requires_grad = True)\n",
    "    Input_start.retain_grad()\n",
    "    optimizer = torch.optim.Adam([Input_start],lr= 0.1,weight_decay=0)\n",
    "    torch.autograd.set_detect_anomaly(True)\n",
    "    loss_all = []\n",
    "    exp_var_all = []\n",
    "    for i in range(iters):\n",
    "        optimizer.zero_grad()\n",
    "        Xstar = XB_start + Input_start\n",
    "        X = torch.concat((XB,Xstar),0)\n",
    "        U,S,V = torch.svd(X)\n",
    "        \n",
    "        w1 = V.T.norm(p=2, dim=1, keepdim=True)\n",
    "        w2 = W_tot.T.norm(p=2, dim=1, keepdim=True)\n",
    "        cosineLoss = torch.mm(V.t(), W_tot) / (w1 * w2.t()).clamp(min=1e-6)\n",
    "        cosineLoss = torch.abs(cosineLoss)\n",
    "        \n",
    "        loss = -torch.mean(cosineLoss[np.arange(0,V.shape[1]),torch.argmax(cosineLoss,1)])\n",
    "        loss = loss - 100. * torch.min(cosineLoss[np.arange(0,V.shape[1]),torch.argmax(cosineLoss,1)])\n",
    "        loss = loss + 1e-2 * torch.sum(torch.abs(Input_start))\n",
    "\n",
    "        loss.backward()\n",
    "        optimizer.step()\n",
    "        \n",
    "        loss_all.append(loss.item())\n",
    "        if i % 200 == 0 :\n",
    "            outString = 'Sample {:.0f} Iteration={:.0f}'.format(j,i)\n",
    "            outString += ', loss={:.4f}'.format(loss.item())\n",
    "            print(outString)\n",
    "    outString = 'Sample {:.0f} Iteration={:.0f}'.format(j,i)\n",
    "    outString += ', loss={:.4f}'.format(loss.item())\n",
    "    print(outString)\n",
    "    print(cosineLoss[np.arange(0,V.shape[1]),torch.argmax(cosineLoss,1)].detach().cpu().numpy())\n",
    "    print(cosineLoss[np.arange(0,V.shape[1]),torch.argmax(cosineLoss,1)].detach().cpu().numpy().min())\n",
    "    plt.plot(range(iters),loss_all)\n",
    "    all_dx[j,:] = Input_start.detach().cpu().numpy()\n",
    "    j = j +1\n",
    "pert_dx = pd.DataFrame(np.mean(all_dx,0)).T\n",
    "pert_dx.columns = X_B.columns.values\n",
    "pert_dx_std = pd.DataFrame(np.std(all_dx,0)).T\n",
    "pert_dx_std.columns = X_B.columns.values\n",
    "df_pert = df_pert.append(pert_dx)"
   ]
  },
  {
   "cell_type": "code",
   "execution_count": 17,
   "id": "dd4b411e",
   "metadata": {},
   "outputs": [],
   "source": [
    "# df_fatty.index = [i for i in range(XB_fatty.shape[0])]\n",
    "df_pert.index = [i for i in range(XB_start.shape[0])]"
   ]
  },
  {
   "cell_type": "code",
   "execution_count": 18,
   "id": "87c3586b",
   "metadata": {},
   "outputs": [
    {
     "data": {
      "text/html": [
       "<div>\n",
       "<style scoped>\n",
       "    .dataframe tbody tr th:only-of-type {\n",
       "        vertical-align: middle;\n",
       "    }\n",
       "\n",
       "    .dataframe tbody tr th {\n",
       "        vertical-align: top;\n",
       "    }\n",
       "\n",
       "    .dataframe thead th {\n",
       "        text-align: right;\n",
       "    }\n",
       "</style>\n",
       "<table border=\"1\" class=\"dataframe\">\n",
       "  <thead>\n",
       "    <tr style=\"text-align: right;\">\n",
       "      <th></th>\n",
       "      <th>TSPAN6</th>\n",
       "      <th>TNMD</th>\n",
       "      <th>DPM1</th>\n",
       "      <th>SCYL3</th>\n",
       "      <th>C1orf112</th>\n",
       "      <th>FGR</th>\n",
       "      <th>CFH</th>\n",
       "      <th>FUCA2</th>\n",
       "      <th>GCLC</th>\n",
       "      <th>NFYA</th>\n",
       "      <th>...</th>\n",
       "      <th>DDX51</th>\n",
       "      <th>YBX2</th>\n",
       "      <th>NANOS3</th>\n",
       "      <th>ISLR</th>\n",
       "      <th>CHEK2P5</th>\n",
       "      <th>TMEM95</th>\n",
       "      <th>C1R</th>\n",
       "      <th>OR4F4</th>\n",
       "      <th>PRKACA</th>\n",
       "      <th>GOLGA6L2</th>\n",
       "    </tr>\n",
       "  </thead>\n",
       "  <tbody>\n",
       "    <tr>\n",
       "      <th>0</th>\n",
       "      <td>19.561236</td>\n",
       "      <td>34.600247</td>\n",
       "      <td>37.937096</td>\n",
       "      <td>-5.525124</td>\n",
       "      <td>-8.851924</td>\n",
       "      <td>-2.089139</td>\n",
       "      <td>9.073436</td>\n",
       "      <td>0.504495</td>\n",
       "      <td>-0.023016</td>\n",
       "      <td>4.693576</td>\n",
       "      <td>...</td>\n",
       "      <td>0.078652</td>\n",
       "      <td>-0.003828</td>\n",
       "      <td>-0.01302</td>\n",
       "      <td>-0.053566</td>\n",
       "      <td>0.0</td>\n",
       "      <td>0.006022</td>\n",
       "      <td>0.02448</td>\n",
       "      <td>-0.000585</td>\n",
       "      <td>-0.012167</td>\n",
       "      <td>-0.002036</td>\n",
       "    </tr>\n",
       "  </tbody>\n",
       "</table>\n",
       "<p>1 rows × 26001 columns</p>\n",
       "</div>"
      ],
      "text/plain": [
       "      TSPAN6       TNMD       DPM1     SCYL3  C1orf112       FGR       CFH  \\\n",
       "0  19.561236  34.600247  37.937096 -5.525124 -8.851924 -2.089139  9.073436   \n",
       "\n",
       "      FUCA2      GCLC      NFYA  ...     DDX51      YBX2   NANOS3      ISLR  \\\n",
       "0  0.504495 -0.023016  4.693576  ...  0.078652 -0.003828 -0.01302 -0.053566   \n",
       "\n",
       "   CHEK2P5    TMEM95      C1R     OR4F4    PRKACA  GOLGA6L2  \n",
       "0      0.0  0.006022  0.02448 -0.000585 -0.012167 -0.002036  \n",
       "\n",
       "[1 rows x 26001 columns]"
      ]
     },
     "execution_count": 18,
     "metadata": {},
     "output_type": "execute_result"
    }
   ],
   "source": [
    "df_pert"
   ]
  },
  {
   "cell_type": "code",
   "execution_count": 19,
   "id": "b22bde62",
   "metadata": {},
   "outputs": [
    {
     "data": {
      "text/plain": [
       "(array([3.0000e+00, 1.0000e+01, 2.5972e+04, 1.1000e+01, 2.0000e+00,\n",
       "        0.0000e+00, 1.0000e+00, 0.0000e+00, 0.0000e+00, 2.0000e+00]),\n",
       " array([-12.76861998,  -7.69804836,  -2.62747674,   2.44309488,\n",
       "          7.5136665 ,  12.58423812,  17.65480974,  22.72538136,\n",
       "         27.79595297,  32.86652459,  37.93709621]),\n",
       " <BarContainer object of 10 artists>)"
      ]
     },
     "execution_count": 19,
     "metadata": {},
     "output_type": "execute_result"
    },
    {
     "data": {
      "image/png": "[encoded data removed]",
      "text/plain": [
       "<Figure size 432x288 with 1 Axes>"
      ]
     },
     "metadata": {},
     "output_type": "display_data"
    }
   ],
   "source": [
    "plt.hist(pert_dx.values.squeeze())"
   ]
  },
  {
   "cell_type": "code",
   "execution_count": 20,
   "id": "922dc614",
   "metadata": {},
   "outputs": [
    {
     "data": {
      "text/plain": [
       "(array([2.5839e+04, 1.4200e+02, 7.0000e+00, 3.0000e+00, 4.0000e+00,\n",
       "        3.0000e+00, 0.0000e+00, 0.0000e+00, 2.0000e+00, 1.0000e+00]),\n",
       " array([0.        , 0.17481402, 0.34962804, 0.52444206, 0.69925609,\n",
       "        0.87407011, 1.04888413, 1.22369815, 1.39851217, 1.57332619,\n",
       "        1.74814022]),\n",
       " <BarContainer object of 10 artists>)"
      ]
     },
     "execution_count": 20,
     "metadata": {},
     "output_type": "execute_result"
    },
    {
     "data": {
      "image/png": "[encoded data removed]",
      "text/plain": [
       "<Figure size 432x288 with 1 Axes>"
      ]
     },
     "metadata": {},
     "output_type": "display_data"
    }
   ],
   "source": [
    "plt.hist(pert_dx_std.values.squeeze())"
   ]
  },
  {
   "cell_type": "code",
   "execution_count": 21,
   "id": "1e811425",
   "metadata": {},
   "outputs": [],
   "source": [
    "df_pert.to_csv('../results/optimized_mps/df_pert_lean_extra_govaere_kostrzewski.csv')"
   ]
  },
  {
   "cell_type": "code",
   "execution_count": 22,
   "id": "bc7e3fb0",
   "metadata": {},
   "outputs": [
    {
     "data": {
      "text/plain": [
       "(array([2.84904141e-05, 0.00000000e+00, 2.84904141e-05, 4.27356135e-05,\n",
       "        1.70942454e-04, 3.46243941e-01, 2.36327964e-02, 1.28206852e-04,\n",
       "        4.27356060e-05, 1.42452070e-05, 1.42452070e-05, 1.42452070e-05,\n",
       "        0.00000000e+00, 0.00000000e+00, 0.00000000e+00, 0.00000000e+00,\n",
       "        0.00000000e+00, 0.00000000e+00, 0.00000000e+00, 2.84904141e-05]),\n",
       " array([-16.014687  , -13.314827  , -10.614966  ,  -7.915107  ,\n",
       "         -5.2152467 ,  -2.5153866 ,   0.18447343,   2.8843334 ,\n",
       "          5.584193  ,   8.284054  ,  10.983913  ,  13.683773  ,\n",
       "         16.383633  ,  19.083494  ,  21.783354  ,  24.483213  ,\n",
       "         27.183073  ,  29.882933  ,  32.582794  ,  35.282654  ,\n",
       "         37.982513  ], dtype=float32),\n",
       " <BarContainer object of 20 artists>)"
      ]
     },
     "execution_count": 22,
     "metadata": {},
     "output_type": "execute_result"
    },
    {
     "data": {
      "image/png": "[encoded data removed]",
      "text/plain": [
       "<Figure size 432x288 with 1 Axes>"
      ]
     },
     "metadata": {},
     "output_type": "display_data"
    }
   ],
   "source": [
    "plt.hist(XB.detach().cpu().numpy().flatten(),20,density=True)\n",
    "plt.hist(Xstar.detach().cpu().numpy().flatten(),20,density=True)"
   ]
  },
  {
   "cell_type": "code",
   "execution_count": 23,
   "id": "feaa5098",
   "metadata": {},
   "outputs": [
    {
     "data": {
      "text/plain": [
       "(array([1.51699107e-05, 3.03398213e-05, 7.58495533e-05, 7.58495533e-05,\n",
       "        1.43203957e-02, 3.79672524e-01, 1.36529196e-04, 3.03398213e-05,\n",
       "        3.03398213e-05, 0.00000000e+00, 0.00000000e+00, 0.00000000e+00,\n",
       "        1.51699107e-05, 0.00000000e+00, 0.00000000e+00, 0.00000000e+00,\n",
       "        0.00000000e+00, 0.00000000e+00, 1.51699107e-05, 1.51699107e-05]),\n",
       " array([-12.76861998, -10.23333417,  -7.69804836,  -5.16276255,\n",
       "         -2.62747674,  -0.09219093,   2.44309488,   4.97838069,\n",
       "          7.5136665 ,  10.04895231,  12.58423812,  15.11952393,\n",
       "         17.65480974,  20.19009555,  22.72538136,  25.26066717,\n",
       "         27.79595297,  30.33123878,  32.86652459,  35.4018104 ,\n",
       "         37.93709621]),\n",
       " <BarContainer object of 20 artists>)"
      ]
     },
     "execution_count": 23,
     "metadata": {},
     "output_type": "execute_result"
    },
    {
     "data": {
      "image/png": "[encoded data removed]",
      "text/plain": [
       "<Figure size 432x288 with 1 Axes>"
      ]
     },
     "metadata": {},
     "output_type": "display_data"
    }
   ],
   "source": [
    "plt.hist(df_pert.values.flatten(),20,density=True)"
   ]
  },
  {
   "cell_type": "markdown",
   "id": "6b300186",
   "metadata": {},
   "source": [
    "## Using dX find new PC most similar to extra LV"
   ]
  },
  {
   "cell_type": "code",
   "execution_count": null,
   "id": "a638e9a7",
   "metadata": {},
   "outputs": [],
   "source": []
  }
 ],
 "metadata": {
  "kernelspec": {
   "display_name": "Python 3",
   "language": "python",
   "name": "python3"
  },
  "language_info": {
   "codemirror_mode": {
    "name": "ipython",
    "version": 3
   },
   "file_extension": ".py",
   "mimetype": "text/x-python",
   "name": "python",
   "nbconvert_exporter": "python",
   "pygments_lexer": "ipython3",
   "version": "3.8.8"
  }
 },
 "nbformat": 4,
 "nbformat_minor": 5
}
