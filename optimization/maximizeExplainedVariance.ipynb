{
 "cells": [
  {
   "cell_type": "markdown",
   "id": "aeed2b2e",
   "metadata": {},
   "source": [
    "# Load dependencies"
   ]
  },
  {
   "cell_type": "code",
   "execution_count": 1,
   "id": "ffbfdc56",
   "metadata": {},
   "outputs": [],
   "source": [
    "import torch\n",
    "import torch.nn as nn\n",
    "import torch.nn.functional as F\n",
    "import numpy as np\n",
    "import pandas as pd\n",
    "from scipy.stats import pearsonr\n",
    "from sklearn.preprocessing import StandardScaler\n",
    "from sklearn.decomposition import PCA\n",
    "from sklearn.cluster import KMeans\n",
    "from sklearn.model_selection import train_test_split\n",
    "from sklearn.manifold import TSNE\n",
    "from sklearn.model_selection import train_test_split\n",
    "from sklearn.model_selection import KFold\n",
    "from matplotlib import pyplot as plt\n",
    "import seaborn as sns\n",
    "sns.set()"
   ]
  },
  {
   "cell_type": "code",
   "execution_count": 2,
   "id": "4258ff68",
   "metadata": {},
   "outputs": [],
   "source": [
    "device = torch.device('cuda')"
   ]
  },
  {
   "cell_type": "code",
   "execution_count": 3,
   "id": "57ffcb00",
   "metadata": {},
   "outputs": [],
   "source": [
    "#### from https://github.com/gngdb/pytorch-pca/tree/main ####\n",
    "def svd_flip(u, v):\n",
    "    # columns of u, rows of v\n",
    "    max_abs_cols = torch.argmax(torch.abs(u), 0)\n",
    "    i = torch.arange(u.shape[1]).to(u.device)\n",
    "    signs = torch.sign(u[max_abs_cols, i])\n",
    "    u *= signs\n",
    "    v *= signs.view(-1, 1)\n",
    "    return u, v\n",
    "\n",
    "class TorchPCA(nn.Module):\n",
    "    def __init__(self, n_components):\n",
    "        super().__init__()\n",
    "        self.n_components = n_components\n",
    "\n",
    "    #@torch.no_grad()\n",
    "    def fit(self, X):\n",
    "        n, d = X.size()\n",
    "        if self.n_components is not None:\n",
    "            d = min(self.n_components, d)\n",
    "        self.register_buffer(\"mean_\", X.mean(0, keepdim=True))\n",
    "        Z = X - self.mean_ # center\n",
    "        U, S, Vh = torch.linalg.svd(Z, full_matrices=False)\n",
    "        Vt = Vh\n",
    "        U, Vt = svd_flip(U, Vt)\n",
    "        self.register_buffer(\"components_\", Vt[:d])\n",
    "        return self\n",
    "\n",
    "    def forward(self, X):\n",
    "        return self.transform(X)\n",
    "\n",
    "    def transform(self, X):\n",
    "        assert hasattr(self, \"components_\"), \"PCA must be fit before use.\"\n",
    "        return torch.matmul(X - self.mean_, self.components_.t())\n",
    "\n",
    "    def fit_transform(self, X):\n",
    "        self.fit(X)\n",
    "        return self.transform(X)\n",
    "\n",
    "    def inverse_transform(self, Y):\n",
    "        assert hasattr(self, \"components_\"), \"PCA must be fit before use.\"\n",
    "        return torch.matmul(Y, self.components_) + self.mean_"
   ]
  },
  {
   "cell_type": "code",
   "execution_count": 4,
   "id": "f8440447",
   "metadata": {},
   "outputs": [],
   "source": [
    "def rank_tensor(x):\n",
    "    \"\"\"\n",
    "    Returns the ranks of the elements in the input tensor x.\n",
    "    \"\"\"\n",
    "    tmp = x.argsort()\n",
    "    ranks = torch.zeros_like(tmp)\n",
    "    ranks[tmp] = torch.arange(len(x), device=x.device)\n",
    "    return ranks\n",
    "\n",
    "def spearman_corr(x, y):\n",
    "    \"\"\"\n",
    "    Calculates the differentiable Spearman correlation between two tensors x and y.\n",
    "    \"\"\"\n",
    "    assert x.shape == y.shape, \"Input tensors must have the same shape\"\n",
    "    \n",
    "    n = x.size(0)\n",
    "\n",
    "    # Rank the tensors\n",
    "    x_rank = rank_tensor(x).float()\n",
    "    y_rank = rank_tensor(y).float()\n",
    "    \n",
    "    # Compute the covariance between the ranks\n",
    "    x_rank_mean = x_rank.mean()\n",
    "    y_rank_mean = y_rank.mean()\n",
    "    \n",
    "    cov_xy = ((x_rank - x_rank_mean) * (y_rank - y_rank_mean)).mean()\n",
    "    \n",
    "    # Compute the standard deviations of the ranks\n",
    "    std_x_rank = x_rank.std()\n",
    "    std_y_rank = y_rank.std()\n",
    "    \n",
    "    # Compute the Spearman correlation\n",
    "    spearman_corr = cov_xy / (std_x_rank * std_y_rank)\n",
    "    \n",
    "    return spearman_corr\n"
   ]
  },
  {
   "cell_type": "markdown",
   "id": "02b77fda",
   "metadata": {},
   "source": [
    "# Load data"
   ]
  },
  {
   "cell_type": "code",
   "execution_count": 5,
   "id": "68a41fb2",
   "metadata": {},
   "outputs": [],
   "source": [
    "X_A = pd.read_csv('X_Govaere.csv',index_col=0)\n",
    "X_B = pd.read_csv('X_Kostrzewski_grouped.csv',index_col=0)\n",
    "Y_A = pd.read_csv('Y_Govaere.csv',index_col=0)\n",
    "Wh = pd.read_csv('../results/Wh_govaere.csv',index_col=0)\n",
    "W_extra = pd.read_csv('../results/Wm_kostrzewski_extra.csv',index_col=0)\n",
    "lean_control_ind = 'high_lean_FALSE_FALSE_FALSE_FALSE' # in the pair that explains most of the variance it is the control\n",
    "fatty_control_ind = 'high_fat_FALSE_FALSE_FALSE_FALSE'"
   ]
  },
  {
   "cell_type": "code",
   "execution_count": 6,
   "id": "307f1aa1",
   "metadata": {},
   "outputs": [
    {
     "name": "stdout",
     "output_type": "stream",
     "text": [
      "3569.181344230154\n"
     ]
    }
   ],
   "source": [
    "# get total variance of X_A\n",
    "varA = np.var(X_A,axis=0).sum()\n",
    "print(varA)"
   ]
  },
  {
   "cell_type": "markdown",
   "id": "f7bca390",
   "metadata": {},
   "source": [
    "# Get PCA loadings"
   ]
  },
  {
   "cell_type": "code",
   "execution_count": 7,
   "id": "32e95e82",
   "metadata": {},
   "outputs": [],
   "source": [
    "# initialize a PCA object with the largest value of n_components you can\n",
    "pca = PCA()\n",
    "# fit your PCA object to your data\n",
    "pca.fit(X_B)\n",
    "# transform your data into PCA space\n",
    "Z_B = pca.transform(X_B)"
   ]
  },
  {
   "cell_type": "code",
   "execution_count": 8,
   "id": "9f7b0d0d",
   "metadata": {},
   "outputs": [
    {
     "data": {
      "text/plain": [
       "Text(0.5, 1.0, 'in-vitro model PC space')"
      ]
     },
     "execution_count": 8,
     "metadata": {},
     "output_type": "execute_result"
    },
    {
     "data": {
      "image/png": "[encoded data removed]",
      "text/plain": [
       "<Figure size 432x288 with 1 Axes>"
      ]
     },
     "metadata": {
      "needs_background": "light"
     },
     "output_type": "display_data"
    }
   ],
   "source": [
    "pca_data = pd.DataFrame(data={'PC1':Z_B[:,0], 'PC2':Z_B[:,1]})\n",
    "# pca_data = pd.concat([pca_data,pd.DataFrame(data={'PC1':Z_A_B[:,0], 'PC2':Z_A_B[:,1]})])\n",
    "# pca_data['dataset'] = ['in-vitro model' for i in range(Z_B.shape[0])] + ['humans' for i in range(Z_A_B.shape[0])]\n",
    "# plot our PCA transformed data using sns.scatterplot() (set hue = target)\n",
    "sns.scatterplot(data = pca_data , x = 'PC1',y = 'PC2', s =60 , palette= 'icefire')\n",
    "plt.title('in-vitro model PC space')"
   ]
  },
  {
   "cell_type": "code",
   "execution_count": 9,
   "id": "ab6bc727",
   "metadata": {},
   "outputs": [
    {
     "name": "stdout",
     "output_type": "stream",
     "text": [
      "(48, 26001)\n"
     ]
    }
   ],
   "source": [
    "loadings = pca.components_\n",
    "print(loadings.shape)"
   ]
  },
  {
   "cell_type": "code",
   "execution_count": 10,
   "id": "4d79f6c9",
   "metadata": {},
   "outputs": [
    {
     "name": "stdout",
     "output_type": "stream",
     "text": [
      "The explained variance of the human data in the PC-space of liver chip is 32.44 %\n"
     ]
    }
   ],
   "source": [
    "Z_A_B = np.dot(X_A,loadings.T)\n",
    "varAB = np.var(Z_A_B,axis=0).sum()\n",
    "print('The explained variance of the human data in the PC-space of liver chip is {:.2f} %'.format(100*varAB/varA))"
   ]
  },
  {
   "cell_type": "markdown",
   "id": "2dbf7124",
   "metadata": {},
   "source": [
    "# Initialize perturbation as a small random dX"
   ]
  },
  {
   "cell_type": "code",
   "execution_count": 12,
   "id": "2ad76ca0",
   "metadata": {},
   "outputs": [],
   "source": [
    "XB_lean = X_B.loc[lean_control_ind,:].values.reshape(1,X_B.shape[1])\n",
    "XB_fatty = X_B.loc[fatty_control_ind,:].values.reshape(1,X_B.shape[1])\n",
    "dim_init = XB_lean.shape[1]\n",
    "dX_lean = np.random.normal(X_B.mean(0).values,X_B.std(0).values,size=(1,dim_init))\n",
    "dX_lean = torch.tensor(dX_lean).float().to(device)\n",
    "# dX_fatty = np.random.normal(X_B.mean(0).values,X_B.std(0).values,size=(1,XB_fatty.shape[1]))\n",
    "# dX_fatty = torch.tensor(dX_fatty).float().to(device)\n",
    "# Input_fatty = torch.nn.Parameter(dX_fatty, requires_grad = True)\n",
    "# Input_fatty.retain_grad()\n",
    "Input_lean = torch.nn.Parameter(dX_lean, requires_grad = True)\n",
    "Input_lean.retain_grad()\n",
    "# optimizer = torch.optim.Adam([Input_lean,Input_fatty],lr= 0.1,weight_decay=0)\n",
    "optimizer = torch.optim.Adam([Input_lean],lr= 0.1,weight_decay=0)\n",
    "# scheduler = torch.optim.lr_scheduler.StepLR(optimizer,\n",
    "#                                             step_size=150,\n",
    "#                                             gamma=0.8)\n",
    "XB_lean = torch.tensor(XB_lean).float().to(device)\n",
    "XB_lean = torch.mean(XB_lean,0,keepdim = True)\n",
    "# XB_fatty = torch.tensor(XB_fatty).float().to(device)\n",
    "# XB_fatty = torch.mean(XB_fatty,0,keepdim = True)\n",
    "XB = torch.tensor(X_B.values).float().to(device)\n",
    "XA = torch.tensor(X_A.values).float().to(device)\n",
    "W_A = torch.tensor(Wh.values).float().to(device)\n",
    "W_B_extra = torch.tensor(W_extra.values).float().to(device)"
   ]
  },
  {
   "cell_type": "code",
   "execution_count": 13,
   "id": "5a66fa73",
   "metadata": {},
   "outputs": [
    {
     "name": "stdout",
     "output_type": "stream",
     "text": [
      "torch.Size([1, 26001])\n"
     ]
    }
   ],
   "source": [
    "# print(XB_fatty.shape)\n",
    "print(XB_lean.shape)"
   ]
  },
  {
   "cell_type": "code",
   "execution_count": 19,
   "id": "1cdc50aa",
   "metadata": {
    "scrolled": true
   },
   "outputs": [],
   "source": [
    "df_lean = pd.DataFrame({})\n",
    "# df_fatty = pd.DataFrame({})\n",
    "iters = 1000\n",
    "all_dx = np.zeros((30,XB.shape[1]))\n",
    "for j in range(30):\n",
    "    dX_lean = np.random.normal(X_B.mean(0).values,X_B.std(0).values,size=(1,dim_init))\n",
    "    dX_lean = torch.tensor(dX_lean).float().to(device)\n",
    "    Input_lean = torch.nn.Parameter(dX_lean, requires_grad = True)\n",
    "    Input_lean.retain_grad()\n",
    "    optimizer = torch.optim.Adam([Input_lean],lr= 0.1,weight_decay=0)\n",
    "    torch.autograd.set_detect_anomaly(True)\n",
    "    loss_all = []\n",
    "    exp_var_all = []\n",
    "    for i in range(iters):\n",
    "        optimizer.zero_grad()\n",
    "        Xstar_lean = XB_lean + Input_lean\n",
    "        #Xstar_fatty = XB_fatty + Input_fatty\n",
    "        #X = torch.concat((XB,Xstar_lean,Xstar_fatty),0)\n",
    "        X = torch.concat((XB,Xstar_lean),0)\n",
    "        U,S,V = torch.svd(X)\n",
    "        #Z_A_B = torch.matmul(XA,P.T)\n",
    "        Z_A_B = torch.matmul(XA,V)\n",
    "        varAB = torch.var(Z_A_B,axis=0).sum()\n",
    "\n",
    "        ## spearman loss\n",
    "        #lean_spear = torch.abs(spearman_corr(Input_lean.squeeze(),W_B_extra[:,0]))\n",
    "        #lean_spear = lean_spear + torch.abs(spearman_corr(Input_lean.squeeze(),W_B_extra[:,1]))\n",
    "        #fatty_spear = spearman_corr(Input_fatty.squeeze(),W_B_extra[:,0]) + spearman_corr(Input_fatty.squeeze(),W_B_extra[:,1])\n",
    "\n",
    "        loss = - varAB/varA\n",
    "        loss = loss + 1e-6 * torch.sum(torch.abs(Input_lean))\n",
    "\n",
    "        loss.backward()\n",
    "        optimizer.step()\n",
    "        #scheduler.step()\n",
    "\n",
    "        exp_var = 100 * varAB/varA\n",
    "        exp_var = exp_var.item()\n",
    "        loss_all.append(loss.item())\n",
    "        exp_var_all.append(exp_var)\n",
    "        if i % 200 == 0 :\n",
    "            outString = 'Sample {:.0f} Iteration={:.0f}'.format(j,i)\n",
    "            outString += ', loss={:.4f}'.format(loss.item())\n",
    "            outString += ', explained_variance={:.2f}%'.format(exp_var)\n",
    "            print(outString)\n",
    "    outString = 'Sample {:.0f} Iteration={:.0f}'.format(j,i)\n",
    "    outString += ', loss={:.4f}'.format(loss.item())\n",
    "    outString += ', explained_variance={:.2f}%'.format(exp_var)\n",
    "    print(outString)\n",
    "    plt.plot(range(iters),exp_var_all)\n",
    "    all_dx[j,:] = Input_lean.detach().cpu().numpy()\n",
    "    j = j +1\n",
    "# lean_dx = pd.DataFrame(Input_lean.detach().cpu().numpy())\n",
    "lean_dx = pd.DataFrame(np.mean(all_dx,0)).T\n",
    "lean_dx.columns = X_B.columns.values\n",
    "lean_dx_std = pd.DataFrame(np.std(all_dx,0)).T\n",
    "lean_dx_std.columns = X_B.columns.values\n",
    "df_lean = pd.concat([df_lean,lean_dx])\n",
    "# fatty_dx = pd.DataFrame(Input_fatty.detach().cpu().numpy())\n",
    "# fatty_dx.columns = X_B.columns.values\n",
    "# df_fatty = df_fatty.append(fatty_dx)"
   ]
  },
  {
   "cell_type": "code",
   "execution_count": 20,
   "id": "dd4b411e",
   "metadata": {},
   "outputs": [],
   "source": [
    "# df_fatty.index = [i for i in range(XB_fatty.shape[0])]\n",
    "df_lean.index = [i for i in range(XB_lean.shape[0])]"
   ]
  },
  {
   "cell_type": "code",
   "execution_count": 21,
   "id": "87c3586b",
   "metadata": {},
   "outputs": [
    {
     "data": {
      "text/html": [
       "<div>\n",
       "<style scoped>\n",
       "    .dataframe tbody tr th:only-of-type {\n",
       "        vertical-align: middle;\n",
       "    }\n",
       "\n",
       "    .dataframe tbody tr th {\n",
       "        vertical-align: top;\n",
       "    }\n",
       "\n",
       "    .dataframe thead th {\n",
       "        text-align: right;\n",
       "    }\n",
       "</style>\n",
       "<table border=\"1\" class=\"dataframe\">\n",
       "  <thead>\n",
       "    <tr style=\"text-align: right;\">\n",
       "      <th></th>\n",
       "      <th>TSPAN6</th>\n",
       "      <th>TNMD</th>\n",
       "      <th>DPM1</th>\n",
       "      <th>SCYL3</th>\n",
       "      <th>C1orf112</th>\n",
       "      <th>FGR</th>\n",
       "      <th>CFH</th>\n",
       "      <th>FUCA2</th>\n",
       "      <th>GCLC</th>\n",
       "      <th>NFYA</th>\n",
       "      <th>...</th>\n",
       "      <th>DDX51</th>\n",
       "      <th>YBX2</th>\n",
       "      <th>NANOS3</th>\n",
       "      <th>ISLR</th>\n",
       "      <th>CHEK2P5</th>\n",
       "      <th>TMEM95</th>\n",
       "      <th>C1R</th>\n",
       "      <th>OR4F4</th>\n",
       "      <th>PRKACA</th>\n",
       "      <th>GOLGA6L2</th>\n",
       "    </tr>\n",
       "  </thead>\n",
       "  <tbody>\n",
       "    <tr>\n",
       "      <th>0</th>\n",
       "      <td>-0.02893</td>\n",
       "      <td>-0.005145</td>\n",
       "      <td>-0.010471</td>\n",
       "      <td>0.011434</td>\n",
       "      <td>0.003978</td>\n",
       "      <td>0.089125</td>\n",
       "      <td>0.005085</td>\n",
       "      <td>-0.021882</td>\n",
       "      <td>-0.033385</td>\n",
       "      <td>0.018384</td>\n",
       "      <td>...</td>\n",
       "      <td>0.062907</td>\n",
       "      <td>0.084003</td>\n",
       "      <td>-0.000699</td>\n",
       "      <td>0.049504</td>\n",
       "      <td>0.0</td>\n",
       "      <td>0.000646</td>\n",
       "      <td>0.050825</td>\n",
       "      <td>-0.001582</td>\n",
       "      <td>0.029422</td>\n",
       "      <td>0.000939</td>\n",
       "    </tr>\n",
       "  </tbody>\n",
       "</table>\n",
       "<p>1 rows × 26001 columns</p>\n",
       "</div>"
      ],
      "text/plain": [
       "    TSPAN6      TNMD      DPM1     SCYL3  C1orf112       FGR       CFH  \\\n",
       "0 -0.02893 -0.005145 -0.010471  0.011434  0.003978  0.089125  0.005085   \n",
       "\n",
       "      FUCA2      GCLC      NFYA  ...     DDX51      YBX2    NANOS3      ISLR  \\\n",
       "0 -0.021882 -0.033385  0.018384  ...  0.062907  0.084003 -0.000699  0.049504   \n",
       "\n",
       "   CHEK2P5    TMEM95       C1R     OR4F4    PRKACA  GOLGA6L2  \n",
       "0      0.0  0.000646  0.050825 -0.001582  0.029422  0.000939  \n",
       "\n",
       "[1 rows x 26001 columns]"
      ]
     },
     "execution_count": 21,
     "metadata": {},
     "output_type": "execute_result"
    }
   ],
   "source": [
    "df_lean"
   ]
  },
  {
   "cell_type": "code",
   "execution_count": 22,
   "id": "b22bde62",
   "metadata": {},
   "outputs": [
    {
     "data": {
      "text/plain": [
       "(array([5.0000e+00, 1.2000e+01, 1.4900e+02, 2.4300e+03, 2.0011e+04,\n",
       "        3.0870e+03, 2.6500e+02, 3.1000e+01, 6.0000e+00, 5.0000e+00]),\n",
       " array([-0.29467245, -0.23014489, -0.16561733, -0.10108978, -0.03656222,\n",
       "         0.02796533,  0.09249289,  0.15702045,  0.221548  ,  0.28607556,\n",
       "         0.35060312]),\n",
       " <BarContainer object of 10 artists>)"
      ]
     },
     "execution_count": 22,
     "metadata": {},
     "output_type": "execute_result"
    },
    {
     "data": {
      "image/png": "[encoded data removed]",
      "text/plain": [
       "<Figure size 432x288 with 1 Axes>"
      ]
     },
     "metadata": {
      "needs_background": "light"
     },
     "output_type": "display_data"
    }
   ],
   "source": [
    "plt.hist(lean_dx.values.squeeze())"
   ]
  },
  {
   "cell_type": "code",
   "execution_count": 23,
   "id": "922dc614",
   "metadata": {},
   "outputs": [
    {
     "data": {
      "text/plain": [
       "(array([2.1836e+04, 3.3520e+03, 6.5500e+02, 1.0400e+02, 3.5000e+01,\n",
       "        8.0000e+00, 7.0000e+00, 1.0000e+00, 2.0000e+00, 1.0000e+00]),\n",
       " array([0.        , 0.29914911, 0.59829823, 0.89744734, 1.19659646,\n",
       "        1.49574557, 1.79489469, 2.0940438 , 2.39319291, 2.69234203,\n",
       "        2.99149114]),\n",
       " <BarContainer object of 10 artists>)"
      ]
     },
     "execution_count": 23,
     "metadata": {},
     "output_type": "execute_result"
    },
    {
     "data": {
      "image/png": "[encoded data removed]",
      "text/plain": [
       "<Figure size 432x288 with 1 Axes>"
      ]
     },
     "metadata": {
      "needs_background": "light"
     },
     "output_type": "display_data"
    }
   ],
   "source": [
    "plt.hist(lean_dx_std.values.squeeze())"
   ]
  },
  {
   "cell_type": "code",
   "execution_count": 24,
   "id": "6923290f",
   "metadata": {},
   "outputs": [],
   "source": [
    "# df_fatty"
   ]
  },
  {
   "cell_type": "code",
   "execution_count": 25,
   "id": "1e811425",
   "metadata": {},
   "outputs": [],
   "source": [
    "df_lean.to_csv('../results/optimized_mps/dx_lean_govaere_kostrzewski_corrected.csv')\n",
    "# df_fatty.to_csv('../results/optimized_mps/dx_fatty_govaere_kostrzewski.csv')"
   ]
  },
  {
   "cell_type": "code",
   "execution_count": 26,
   "id": "17e41390",
   "metadata": {},
   "outputs": [
    {
     "data": {
      "text/plain": [
       "[<matplotlib.lines.Line2D at 0x247df455ac0>]"
      ]
     },
     "execution_count": 26,
     "metadata": {},
     "output_type": "execute_result"
    },
    {
     "data": {
      "image/png": "[encoded data removed]",
      "text/plain": [
       "<Figure size 432x288 with 1 Axes>"
      ]
     },
     "metadata": {
      "needs_background": "light"
     },
     "output_type": "display_data"
    }
   ],
   "source": [
    "plt.plot(range(iters),loss_all)"
   ]
  },
  {
   "cell_type": "code",
   "execution_count": 51,
   "id": "724e590e",
   "metadata": {},
   "outputs": [],
   "source": [
    "# plt.plot(range(iters),exp_var_all)"
   ]
  },
  {
   "cell_type": "code",
   "execution_count": 27,
   "id": "bc7e3fb0",
   "metadata": {},
   "outputs": [
    {
     "data": {
      "text/plain": [
       "(array([1.29204815e-04, 1.29204867e-03, 2.97171074e-03, 4.90978296e-03,\n",
       "        1.77010632e-02, 9.28982711e-02, 5.12297193e-01, 2.28007759e+00,\n",
       "        3.25208584e-01, 7.01582214e-02, 2.66161972e-02, 1.22744599e-02,\n",
       "        5.55580703e-03, 3.10091555e-03, 2.84250706e-03, 6.46023815e-04,\n",
       "        2.58409733e-04, 3.87614600e-04, 0.00000000e+00, 1.29204867e-04]),\n",
       " array([-2.27879262, -1.98112524, -1.68345797, -1.38579059, -1.0881232 ,\n",
       "        -0.79045588, -0.49278852, -0.19512118,  0.10254617,  0.40021351,\n",
       "         0.69788086,  0.99554819,  1.29321551,  1.5908829 ,  1.88855028,\n",
       "         2.18621755,  2.48388505,  2.78155231,  3.07921958,  3.37688708,\n",
       "         3.67455435]),\n",
       " <BarContainer object of 20 artists>)"
      ]
     },
     "execution_count": 27,
     "metadata": {},
     "output_type": "execute_result"
    },
    {
     "data": {
      "image/png": "[encoded data removed]",
      "text/plain": [
       "<Figure size 432x288 with 1 Axes>"
      ]
     },
     "metadata": {
      "needs_background": "light"
     },
     "output_type": "display_data"
    }
   ],
   "source": [
    "plt.hist(XB.detach().cpu().numpy().flatten(),20,density=True)\n",
    "# plt.hist(Xstar_fatty.detach().cpu().numpy().flatten(),20,density=True)\n",
    "plt.hist(Xstar_lean.detach().cpu().numpy().flatten(),20,density=True)"
   ]
  },
  {
   "cell_type": "code",
   "execution_count": 28,
   "id": "feaa5098",
   "metadata": {},
   "outputs": [
    {
     "data": {
      "text/plain": [
       "(array([3.57615209e-03, 2.38410139e-03, 2.38410139e-03, 1.19205070e-02,\n",
       "        3.69535716e-02, 1.40661982e-01, 6.85429151e-01, 2.21125404e+00,\n",
       "        6.07945855e+00, 1.77746679e+01, 2.82158400e+00, 8.58276502e-01,\n",
       "        2.52714748e-01, 6.31786869e-02, 2.02648618e-02, 1.66887098e-02,\n",
       "        2.38410139e-03, 4.76820279e-03, 3.57615209e-03, 2.38410139e-03]),\n",
       " array([-0.29467245, -0.26240867, -0.23014489, -0.19788111, -0.16561733,\n",
       "        -0.13335356, -0.10108978, -0.068826  , -0.03656222, -0.00429844,\n",
       "         0.02796533,  0.06022911,  0.09249289,  0.12475667,  0.15702045,\n",
       "         0.18928422,  0.221548  ,  0.25381178,  0.28607556,  0.31833934,\n",
       "         0.35060312]),\n",
       " <BarContainer object of 20 artists>)"
      ]
     },
     "execution_count": 28,
     "metadata": {},
     "output_type": "execute_result"
    },
    {
     "data": {
      "image/png": "[encoded data removed]",
      "text/plain": [
       "<Figure size 432x288 with 1 Axes>"
      ]
     },
     "metadata": {
      "needs_background": "light"
     },
     "output_type": "display_data"
    }
   ],
   "source": [
    "plt.hist(df_lean.values.flatten(),20,density=True)"
   ]
  },
  {
   "cell_type": "code",
   "execution_count": 54,
   "id": "d0f350a3",
   "metadata": {},
   "outputs": [],
   "source": [
    "# plt.hist(df_fatty.values.flatten(),20,density=True)"
   ]
  },
  {
   "cell_type": "markdown",
   "id": "16f3f853",
   "metadata": {},
   "source": [
    "### Validate with sklearn"
   ]
  },
  {
   "cell_type": "code",
   "execution_count": 29,
   "id": "13ae952d",
   "metadata": {},
   "outputs": [],
   "source": [
    "# Xstar_lean = XB_lean + Input_lean\n",
    "Xstar_lean = XB_lean + torch.tensor(lean_dx.values).to(device)\n",
    "# Xstar_fatty = XB_fatty + Input_fatty\n",
    "# X = torch.concat((XB,Xstar_lean,Xstar_fatty),0)\n",
    "X = torch.concat((XB,Xstar_lean),0)\n",
    "X = X.detach().cpu().numpy()"
   ]
  },
  {
   "cell_type": "code",
   "execution_count": 30,
   "id": "8a8207cf",
   "metadata": {},
   "outputs": [],
   "source": [
    "lean_ind = np.where(np.isin(X_B.index.values, lean_control_ind))[0]\n",
    "# fatty_ind = np.where(np.isin(X_B.index.values, fatty_control_ind))[0]"
   ]
  },
  {
   "cell_type": "code",
   "execution_count": 31,
   "id": "2cc5c50e",
   "metadata": {},
   "outputs": [
    {
     "data": {
      "text/plain": [
       "<Axes: xlabel='PC1', ylabel='PC2'>"
      ]
     },
     "execution_count": 31,
     "metadata": {},
     "output_type": "execute_result"
    },
    {
     "data": {
      "image/png": "[encoded data removed]",
      "text/plain": [
       "<Figure size 648x648 with 1 Axes>"
      ]
     },
     "metadata": {
      "needs_background": "light"
     },
     "output_type": "display_data"
    }
   ],
   "source": [
    "# initialize a PCA object with the largest value of n_components you can\n",
    "pca = PCA()\n",
    "# fit your PCA object to your data\n",
    "pca.fit(X)\n",
    "# transform your data into PCA space\n",
    "Z_B = pca.transform(X)\n",
    "pca_data = pd.DataFrame(data={'PC1':Z_B[:,0], 'PC2':Z_B[:,1]})\n",
    "# plot our PCA transformed data using sns.scatterplot() (set hue = target)\n",
    "# pca_data[\"type\"] = ['chip data' for i in range(XB.shape[0])] + ['new lean' for i in range(XB_lean.shape[0])] + ['new fatty' for i in range(XB_fatty.shape[0])]\n",
    "pca_data[\"type\"] = ['chip data' for i in range(XB.shape[0])] + ['new lean' for i in range(XB_lean.shape[0])] \n",
    "pca_data.iloc[lean_ind,2] = 'old lean'\n",
    "# pca_data.iloc[fatty_ind,2] = 'old fatty'\n",
    "plt.figure(figsize=(9, 9))\n",
    "sns.scatterplot(data = pca_data , x = 'PC1',y = 'PC2' , s =60 ,hue='type')"
   ]
  },
  {
   "cell_type": "code",
   "execution_count": 32,
   "id": "34fdf4cb",
   "metadata": {},
   "outputs": [
    {
     "name": "stdout",
     "output_type": "stream",
     "text": [
      "(49, 26001)\n",
      "The explained variance of the human data in the PC-space of liver chip is 43.18 %\n"
     ]
    }
   ],
   "source": [
    "loadings = pca.components_\n",
    "print(loadings.shape)\n",
    "Z_A_B = np.dot(X_A,loadings.T)\n",
    "varAB = np.var(Z_A_B,axis=0).sum()\n",
    "print('The explained variance of the human data in the PC-space of liver chip is {:.2f} %'.format(100*varAB/varA))"
   ]
  },
  {
   "cell_type": "code",
   "execution_count": 28,
   "id": "54f57d19",
   "metadata": {},
   "outputs": [],
   "source": [
    "# varA_filt = np.var(np.dot(np.dot(X_A,Wh),Wh.T),axis=0).sum()\n",
    "# Z_A_B_filt = np.dot(np.dot(np.dot(X_A,Wh),Wh.T),loadings.T)\n",
    "# varAB_filt = np.var(Z_A_B_filt,axis=0).sum()\n",
    "# print('The explained variance of the human data in the PC-space of liver chip is {:.2f} %'.format(100*varAB_filt/varA_filt))"
   ]
  },
  {
   "cell_type": "code",
   "execution_count": 29,
   "id": "1f2d0b92",
   "metadata": {},
   "outputs": [],
   "source": [
    "# varA_filt = np.var(X_A-np.dot(np.dot(X_A,Wh),Wh.T),axis=0).sum()\n",
    "# Z_A_B_filt = np.dot(X_A-np.dot(np.dot(X_A,Wh),Wh.T),loadings.T)\n",
    "# varAB_filt = np.var(Z_A_B_filt,axis=0).sum()\n",
    "# print('The explained variance of the human data in the PC-space of liver chip is {:.2f} %'.format(100*varAB_filt/varA_filt))"
   ]
  },
  {
   "cell_type": "markdown",
   "id": "d62a76df",
   "metadata": {},
   "source": [
    "### Perturb with dX all lean and fatty samples"
   ]
  },
  {
   "cell_type": "code",
   "execution_count": 33,
   "id": "f2f9dbd7",
   "metadata": {},
   "outputs": [],
   "source": [
    "XB_lean = X_B.loc[lean_control_ind,:]\n",
    "# XB_fatty = X_B.loc[fatty_control_ind,:]\n",
    "XB_lean = torch.tensor(XB_lean.values).float().to(device)\n",
    "# XB_fatty = torch.tensor(XB_fatty.values).float().to(device)"
   ]
  },
  {
   "cell_type": "code",
   "execution_count": 34,
   "id": "34600e7a",
   "metadata": {},
   "outputs": [],
   "source": [
    "Xstar_lean = XB_lean + torch.tensor(df_lean.values).to(device)\n",
    "# Xstar_fatty = XB_fatty + torch.tensor(df_fatty.values).to(device)"
   ]
  },
  {
   "cell_type": "code",
   "execution_count": 35,
   "id": "5c8a2d9b",
   "metadata": {},
   "outputs": [],
   "source": [
    "df_lean = np.concatenate([XB_lean.detach().cpu().numpy().reshape(1,X_B.shape[1]),\n",
    "                          Xstar_lean.detach().cpu().numpy()],0)\n",
    "df_lean = pd.DataFrame(df_lean)\n",
    "df_lean.columns = X_B.columns.values\n",
    "df_lean.index = ['control'+str(i) for i in range(Xstar_lean.shape[0])] + ['perturbed'+str(i) for i in range(Xstar_lean.shape[0])]\n",
    "df_lean = df_lean.T\n",
    "df_lean.to_csv('../results/optimized_mps/pertubed_control_lean_corrected.csv')"
   ]
  },
  {
   "cell_type": "code",
   "execution_count": 69,
   "id": "6ccad1c1",
   "metadata": {},
   "outputs": [],
   "source": [
    "# df_fatty = np.concatenate([XB_fatty.detach().cpu().numpy().reshape(1,X_B.shape[1]),\n",
    "#                            Xstar_fatty.detach().cpu().numpy()],0)\n",
    "# df_fatty = pd.DataFrame(df_fatty)\n",
    "# df_fatty.columns = X_B.columns.values\n",
    "# df_fatty.index = ['control'+str(i) for i in range(Xstar_fatty.shape[0])] + ['perturbed'+str(i) for i in range(Xstar_fatty.shape[0])]\n",
    "# df_fatty = df_fatty.T\n",
    "# df_fatty.to_csv('../results/optimized_mps/pertubed_control_fatty.csv')"
   ]
  },
  {
   "cell_type": "code",
   "execution_count": 36,
   "id": "d4fb13cf",
   "metadata": {},
   "outputs": [],
   "source": [
    "# X = torch.concat((XB,Xstar_lean,Xstar_fatty),0)\n",
    "X = torch.concat((XB,Xstar_lean),0)\n",
    "X = X.detach().cpu().numpy()"
   ]
  },
  {
   "cell_type": "code",
   "execution_count": 37,
   "id": "a105e3d2",
   "metadata": {},
   "outputs": [],
   "source": [
    "lean_ind = np.where(np.isin(X_B.index.values, lean_control_ind))[0]\n",
    "# fatty_ind = np.where(np.isin(X_B.index.values, fatty_control_ind))[0]"
   ]
  },
  {
   "cell_type": "code",
   "execution_count": 38,
   "id": "1963d455",
   "metadata": {
    "scrolled": true
   },
   "outputs": [
    {
     "data": {
      "text/plain": [
       "<Axes: xlabel='PC1', ylabel='PC2'>"
      ]
     },
     "execution_count": 38,
     "metadata": {},
     "output_type": "execute_result"
    },
    {
     "data": {
      "image/png": "[encoded data removed]",
      "text/plain": [
       "<Figure size 648x648 with 1 Axes>"
      ]
     },
     "metadata": {
      "needs_background": "light"
     },
     "output_type": "display_data"
    }
   ],
   "source": [
    "# initialize a PCA object with the largest value of n_components you can\n",
    "pca = PCA()\n",
    "# fit your PCA object to your data\n",
    "pca.fit(X)\n",
    "# transform your data into PCA space\n",
    "Z_B = pca.transform(X)\n",
    "pca_data = pd.DataFrame(data={'PC1':Z_B[:,0], 'PC2':Z_B[:,1]})\n",
    "# plot our PCA transformed data using sns.scatterplot() (set hue = target)\n",
    "pca_data[\"type\"] = ['chip data' for i in range(XB.shape[0])] + ['new lean' for i in range(Xstar_lean.shape[0])] #+ ['new fatty' for i in range(Xstar_fatty.shape[0])]\n",
    "pca_data.iloc[lean_ind,2] = 'old lean'\n",
    "# pca_data.iloc[fatty_ind,2] = 'old fatty'\n",
    "plt.figure(figsize=(9, 9))\n",
    "sns.scatterplot(data = pca_data , x = 'PC1',y = 'PC2' , s =60 ,hue='type')"
   ]
  },
  {
   "cell_type": "code",
   "execution_count": 39,
   "id": "e905bb1e",
   "metadata": {},
   "outputs": [
    {
     "name": "stdout",
     "output_type": "stream",
     "text": [
      "(49, 26001)\n",
      "The explained variance of the human data in the PC-space of liver chip is 43.18 %\n"
     ]
    }
   ],
   "source": [
    "loadings = pca.components_\n",
    "print(loadings.shape)\n",
    "Z_A_B = np.dot(X_A,loadings.T)\n",
    "varAB = np.var(Z_A_B,axis=0).sum()\n",
    "print('The explained variance of the human data in the PC-space of liver chip is {:.2f} %'.format(100*varAB/varA))"
   ]
  },
  {
   "cell_type": "code",
   "execution_count": null,
   "id": "7aec0066",
   "metadata": {},
   "outputs": [],
   "source": []
  }
 ],
 "metadata": {
  "kernelspec": {
   "display_name": "Python 3",
   "language": "python",
   "name": "python3"
  },
  "language_info": {
   "codemirror_mode": {
    "name": "ipython",
    "version": 3
   },
   "file_extension": ".py",
   "mimetype": "text/x-python",
   "name": "python",
   "nbconvert_exporter": "python",
   "pygments_lexer": "ipython3",
   "version": "3.8.8"
  }
 },
 "nbformat": 4,
 "nbformat_minor": 5
}
